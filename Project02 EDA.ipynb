{
 "cells": [
  {
   "attachments": {},
   "cell_type": "markdown",
   "id": "239ac260",
   "metadata": {},
   "source": [
    "<center>\n",
    "    <h1 style=\"color:green;\">EDA</h1>\n",
    "    <h2 style=\"color:green;\">Project: Tour Recommendation System</h2>\n",
    "</center>\n",
    "\n",
    "<h3> Group : 1 (AMS-B)</h3>\n",
    "<h3> Members: </h3><br>\n",
    "1. Rith Chanthyda , ID: e20200612<br>\n",
    "2. Phun Sreypich  , ID: e20200179<br>\n",
    "3. Phai Ratha  , ID: e20200190<br>\n",
    "4. Kry Senghort  , ID: e20200706<br>\n",
    "5. Mengheab Vathanak  , ID: e20201145<br>\n",
    "6. Rithy Vira  , ID: e20200978<br>"
   ]
  },
  {
   "attachments": {},
   "cell_type": "markdown",
   "id": "6930af21",
   "metadata": {},
   "source": [
    "## 1.Library"
   ]
  },
  {
   "cell_type": "code",
   "execution_count": 1,
   "id": "808d6da5",
   "metadata": {},
   "outputs": [],
   "source": [
    "import pandas as pd\n",
    "import numpy as np\n",
    "import matplotlib.pyplot as plt\n",
    "import seaborn as sns\n",
    "import plotly.express as px\n",
    "from sklearn.neighbors import NearestNeighbors"
   ]
  },
  {
   "attachments": {},
   "cell_type": "markdown",
   "id": "8441daa0",
   "metadata": {},
   "source": [
    "## 2.Data Loading"
   ]
  },
  {
   "cell_type": "code",
   "execution_count": 2,
   "id": "377d4282",
   "metadata": {},
   "outputs": [
    {
     "data": {
      "text/html": [
       "<div>\n",
       "<style scoped>\n",
       "    .dataframe tbody tr th:only-of-type {\n",
       "        vertical-align: middle;\n",
       "    }\n",
       "\n",
       "    .dataframe tbody tr th {\n",
       "        vertical-align: top;\n",
       "    }\n",
       "\n",
       "    .dataframe thead th {\n",
       "        text-align: right;\n",
       "    }\n",
       "</style>\n",
       "<table border=\"1\" class=\"dataframe\">\n",
       "  <thead>\n",
       "    <tr style=\"text-align: right;\">\n",
       "      <th></th>\n",
       "      <th>Index</th>\n",
       "      <th>Tour_Name</th>\n",
       "      <th>Tour_Type</th>\n",
       "      <th>Number_of_Reviewer</th>\n",
       "      <th>Rating</th>\n",
       "      <th>Duration</th>\n",
       "      <th>Price</th>\n",
       "      <th>Highlight</th>\n",
       "      <th>Location</th>\n",
       "    </tr>\n",
       "  </thead>\n",
       "  <tbody>\n",
       "    <tr>\n",
       "      <th>0</th>\n",
       "      <td>1</td>\n",
       "      <td>Phare: The Cambodian Circus Show in Siem Reap</td>\n",
       "      <td>Comedy Shows</td>\n",
       "      <td>992.0</td>\n",
       "      <td>5.0</td>\n",
       "      <td>1</td>\n",
       "      <td>18.00</td>\n",
       "      <td>Siem Reap's most original, authentic live perf...</td>\n",
       "      <td>Asia, Cambodia, Siem Reap Province, Siem Reap,...</td>\n",
       "    </tr>\n",
       "    <tr>\n",
       "      <th>1</th>\n",
       "      <td>2</td>\n",
       "      <td>Khmer Gourmet Cooking Class</td>\n",
       "      <td>Cooking Classes</td>\n",
       "      <td>55.0</td>\n",
       "      <td>5.0</td>\n",
       "      <td>3</td>\n",
       "      <td>21.50</td>\n",
       "      <td>In-person guide</td>\n",
       "      <td>Asia, Cambodia, Siem Reap Province, Siem Reap,...</td>\n",
       "    </tr>\n",
       "    <tr>\n",
       "      <th>2</th>\n",
       "      <td>3</td>\n",
       "      <td>Koh Ker &amp; Beng Mealea Full-Day Join-in Tour</td>\n",
       "      <td>Full-day Tours</td>\n",
       "      <td>288.0</td>\n",
       "      <td>5.0</td>\n",
       "      <td>10</td>\n",
       "      <td>50.00</td>\n",
       "      <td>Cold towels &amp; Bottled water, Professional Engl...</td>\n",
       "      <td>Asia, Cambodia, Siem Reap Province, Siem Reap,...</td>\n",
       "    </tr>\n",
       "    <tr>\n",
       "      <th>3</th>\n",
       "      <td>4</td>\n",
       "      <td>Kampot Day Tour \"Bokor National Park\"</td>\n",
       "      <td>Adventure Tours</td>\n",
       "      <td>18.0</td>\n",
       "      <td>4.5</td>\n",
       "      <td>5</td>\n",
       "      <td>36.00</td>\n",
       "      <td>Transportation: Tuk Tuk, English speaking driv...</td>\n",
       "      <td>Asia, Cambodia, Kampot Province, Kampot, Thing...</td>\n",
       "    </tr>\n",
       "    <tr>\n",
       "      <th>4</th>\n",
       "      <td>5</td>\n",
       "      <td>Bike the Siem Reap Countryside with Local Expert</td>\n",
       "      <td>Adventure Tours</td>\n",
       "      <td>308.0</td>\n",
       "      <td>5.0</td>\n",
       "      <td>5</td>\n",
       "      <td>35.00</td>\n",
       "      <td>Hotel pick up &amp; Drop Off, Professional local E...</td>\n",
       "      <td>Asia, Cambodia, Siem Reap Province, Siem Reap,...</td>\n",
       "    </tr>\n",
       "    <tr>\n",
       "      <th>...</th>\n",
       "      <td>...</td>\n",
       "      <td>...</td>\n",
       "      <td>...</td>\n",
       "      <td>...</td>\n",
       "      <td>...</td>\n",
       "      <td>...</td>\n",
       "      <td>...</td>\n",
       "      <td>...</td>\n",
       "      <td>...</td>\n",
       "    </tr>\n",
       "    <tr>\n",
       "      <th>4780</th>\n",
       "      <td>4781</td>\n",
       "      <td>Koh Khe Beng Mealea less crowded Private Tour</td>\n",
       "      <td>Museum Tickets &amp; Passes</td>\n",
       "      <td>NaN</td>\n",
       "      <td>NaN</td>\n",
       "      <td>10</td>\n",
       "      <td>NaN</td>\n",
       "      <td>English Speaking Tour guide, air conditioner c...</td>\n",
       "      <td>Siem Reap, Cambodia</td>\n",
       "    </tr>\n",
       "    <tr>\n",
       "      <th>4781</th>\n",
       "      <td>4782</td>\n",
       "      <td>Special Angkor Sunrise &amp; Sunset Tour</td>\n",
       "      <td>Full-day Tours</td>\n",
       "      <td>NaN</td>\n",
       "      <td>NaN</td>\n",
       "      <td>9</td>\n",
       "      <td>61.54</td>\n",
       "      <td>English speaking tourist guide, Hotel pick up ...</td>\n",
       "      <td>Siem Reap, Cambodia</td>\n",
       "    </tr>\n",
       "    <tr>\n",
       "      <th>4782</th>\n",
       "      <td>4783</td>\n",
       "      <td>Most Amazing Angkor Tour</td>\n",
       "      <td>Adventure Tours</td>\n",
       "      <td>1.0</td>\n",
       "      <td>5.0</td>\n",
       "      <td>12</td>\n",
       "      <td>NaN</td>\n",
       "      <td>Guided Tour</td>\n",
       "      <td>Krong Siem Reap, Cambodia</td>\n",
       "    </tr>\n",
       "    <tr>\n",
       "      <th>4783</th>\n",
       "      <td>4784</td>\n",
       "      <td>Amazing Koh Ker And Beng Mealea Tour</td>\n",
       "      <td>Full-day Tours</td>\n",
       "      <td>NaN</td>\n",
       "      <td>NaN</td>\n",
       "      <td>9</td>\n",
       "      <td>90.00</td>\n",
       "      <td>English speaking tourist guide, Private transp...</td>\n",
       "      <td>Siem Reap, Cambodia</td>\n",
       "    </tr>\n",
       "    <tr>\n",
       "      <th>4784</th>\n",
       "      <td>4785</td>\n",
       "      <td>Siem Reap - Our famous French Building Provinc...</td>\n",
       "      <td>Hiking Tours</td>\n",
       "      <td>1.0</td>\n",
       "      <td>5.0</td>\n",
       "      <td>8</td>\n",
       "      <td>173.08</td>\n",
       "      <td>English Local Tour Guide (Licensed Tour Guide)...</td>\n",
       "      <td>Siem Reap, Cambodia</td>\n",
       "    </tr>\n",
       "  </tbody>\n",
       "</table>\n",
       "<p>4785 rows × 9 columns</p>\n",
       "</div>"
      ],
      "text/plain": [
       "      Index                                          Tour_Name  \\\n",
       "0         1      Phare: The Cambodian Circus Show in Siem Reap   \n",
       "1         2                        Khmer Gourmet Cooking Class   \n",
       "2         3        Koh Ker & Beng Mealea Full-Day Join-in Tour   \n",
       "3         4              Kampot Day Tour \"Bokor National Park\"   \n",
       "4         5   Bike the Siem Reap Countryside with Local Expert   \n",
       "...     ...                                                ...   \n",
       "4780   4781      Koh Khe Beng Mealea less crowded Private Tour   \n",
       "4781   4782               Special Angkor Sunrise & Sunset Tour   \n",
       "4782   4783                           Most Amazing Angkor Tour   \n",
       "4783   4784               Amazing Koh Ker And Beng Mealea Tour   \n",
       "4784   4785  Siem Reap - Our famous French Building Provinc...   \n",
       "\n",
       "                    Tour_Type  Number_of_Reviewer  Rating  Duration   Price  \\\n",
       "0                Comedy Shows               992.0     5.0         1   18.00   \n",
       "1             Cooking Classes                55.0     5.0         3   21.50   \n",
       "2              Full-day Tours               288.0     5.0        10   50.00   \n",
       "3             Adventure Tours                18.0     4.5         5   36.00   \n",
       "4             Adventure Tours               308.0     5.0         5   35.00   \n",
       "...                       ...                 ...     ...       ...     ...   \n",
       "4780  Museum Tickets & Passes                 NaN     NaN        10     NaN   \n",
       "4781           Full-day Tours                 NaN     NaN         9   61.54   \n",
       "4782          Adventure Tours                 1.0     5.0        12     NaN   \n",
       "4783           Full-day Tours                 NaN     NaN         9   90.00   \n",
       "4784             Hiking Tours                 1.0     5.0         8  173.08   \n",
       "\n",
       "                                              Highlight  \\\n",
       "0     Siem Reap's most original, authentic live perf...   \n",
       "1                                       In-person guide   \n",
       "2     Cold towels & Bottled water, Professional Engl...   \n",
       "3     Transportation: Tuk Tuk, English speaking driv...   \n",
       "4     Hotel pick up & Drop Off, Professional local E...   \n",
       "...                                                 ...   \n",
       "4780  English Speaking Tour guide, air conditioner c...   \n",
       "4781  English speaking tourist guide, Hotel pick up ...   \n",
       "4782                                        Guided Tour   \n",
       "4783  English speaking tourist guide, Private transp...   \n",
       "4784  English Local Tour Guide (Licensed Tour Guide)...   \n",
       "\n",
       "                                               Location  \n",
       "0     Asia, Cambodia, Siem Reap Province, Siem Reap,...  \n",
       "1     Asia, Cambodia, Siem Reap Province, Siem Reap,...  \n",
       "2     Asia, Cambodia, Siem Reap Province, Siem Reap,...  \n",
       "3     Asia, Cambodia, Kampot Province, Kampot, Thing...  \n",
       "4     Asia, Cambodia, Siem Reap Province, Siem Reap,...  \n",
       "...                                                 ...  \n",
       "4780                                Siem Reap, Cambodia  \n",
       "4781                                Siem Reap, Cambodia  \n",
       "4782                          Krong Siem Reap, Cambodia  \n",
       "4783                                Siem Reap, Cambodia  \n",
       "4784                                Siem Reap, Cambodia  \n",
       "\n",
       "[4785 rows x 9 columns]"
      ]
     },
     "execution_count": 2,
     "metadata": {},
     "output_type": "execute_result"
    }
   ],
   "source": [
    "# Load CSV file into a pandas dataframe\n",
    "df = pd.read_csv('tour_data.csv')\n",
    "df"
   ]
  },
  {
   "cell_type": "code",
   "execution_count": 3,
   "id": "6e25b190",
   "metadata": {},
   "outputs": [
    {
     "name": "stdout",
     "output_type": "stream",
     "text": [
      "<class 'pandas.core.frame.DataFrame'>\n",
      "RangeIndex: 4785 entries, 0 to 4784\n",
      "Data columns (total 9 columns):\n",
      " #   Column              Non-Null Count  Dtype  \n",
      "---  ------              --------------  -----  \n",
      " 0   Index               4785 non-null   int64  \n",
      " 1   Tour_Name           4785 non-null   object \n",
      " 2   Tour_Type           4783 non-null   object \n",
      " 3   Number_of_Reviewer  2095 non-null   float64\n",
      " 4   Rating              2095 non-null   float64\n",
      " 5   Duration            4785 non-null   int64  \n",
      " 6   Price               4352 non-null   float64\n",
      " 7   Highlight           4785 non-null   object \n",
      " 8   Location            4755 non-null   object \n",
      "dtypes: float64(3), int64(2), object(4)\n",
      "memory usage: 336.6+ KB\n"
     ]
    }
   ],
   "source": [
    "df.info()"
   ]
  },
  {
   "attachments": {},
   "cell_type": "markdown",
   "id": "d938c493",
   "metadata": {},
   "source": [
    "## 3.Data Cleaning"
   ]
  },
  {
   "attachments": {},
   "cell_type": "markdown",
   "id": "7008942e",
   "metadata": {},
   "source": [
    "## Check Missing Value"
   ]
  },
  {
   "cell_type": "code",
   "execution_count": 4,
   "id": "d20a7433",
   "metadata": {},
   "outputs": [
    {
     "name": "stdout",
     "output_type": "stream",
     "text": [
      "Index                    0\n",
      "Tour_Name                0\n",
      "Tour_Type                2\n",
      "Number_of_Reviewer    2690\n",
      "Rating                2690\n",
      "Duration                 0\n",
      "Price                  433\n",
      "Highlight                0\n",
      "Location                30\n",
      "dtype: int64\n"
     ]
    }
   ],
   "source": [
    "print(df.isnull().sum())"
   ]
  },
  {
   "attachments": {},
   "cell_type": "markdown",
   "id": "6031b67d",
   "metadata": {},
   "source": [
    "## Impute Missing Values of Numerical Data Type"
   ]
  },
  {
   "attachments": {},
   "cell_type": "markdown",
   "id": "73e11d8f",
   "metadata": {},
   "source": [
    "Identify Numerical Features"
   ]
  },
  {
   "cell_type": "code",
   "execution_count": 5,
   "id": "dbf5e9c8",
   "metadata": {},
   "outputs": [
    {
     "data": {
      "text/plain": [
       "array(['Index', 'Number_of_Reviewer', 'Rating', 'Duration', 'Price'],\n",
       "      dtype=object)"
      ]
     },
     "execution_count": 5,
     "metadata": {},
     "output_type": "execute_result"
    }
   ],
   "source": [
    "numerical_features = df.select_dtypes(include = ['int64','float64']).columns.values\n",
    "numerical_features"
   ]
  },
  {
   "attachments": {},
   "cell_type": "markdown",
   "id": "ebb5609b",
   "metadata": {},
   "source": [
    "Declare an Instance"
   ]
  },
  {
   "cell_type": "code",
   "execution_count": 6,
   "id": "eb968eac",
   "metadata": {},
   "outputs": [],
   "source": [
    "from sklearn.impute import KNNImputer\n",
    "num_impute = KNNImputer()"
   ]
  },
  {
   "attachments": {},
   "cell_type": "markdown",
   "id": "30be69d7",
   "metadata": {},
   "source": [
    "Fit"
   ]
  },
  {
   "cell_type": "code",
   "execution_count": 7,
   "id": "c39849ca",
   "metadata": {},
   "outputs": [
    {
     "data": {
      "text/html": [
       "<div>\n",
       "<style scoped>\n",
       "    .dataframe tbody tr th:only-of-type {\n",
       "        vertical-align: middle;\n",
       "    }\n",
       "\n",
       "    .dataframe tbody tr th {\n",
       "        vertical-align: top;\n",
       "    }\n",
       "\n",
       "    .dataframe thead th {\n",
       "        text-align: right;\n",
       "    }\n",
       "</style>\n",
       "<table border=\"1\" class=\"dataframe\">\n",
       "  <thead>\n",
       "    <tr style=\"text-align: right;\">\n",
       "      <th></th>\n",
       "      <th>Index</th>\n",
       "      <th>Number_of_Reviewer</th>\n",
       "      <th>Rating</th>\n",
       "      <th>Duration</th>\n",
       "      <th>Price</th>\n",
       "    </tr>\n",
       "  </thead>\n",
       "  <tbody>\n",
       "    <tr>\n",
       "      <th>0</th>\n",
       "      <td>1</td>\n",
       "      <td>992.0</td>\n",
       "      <td>5.0</td>\n",
       "      <td>1</td>\n",
       "      <td>18.0</td>\n",
       "    </tr>\n",
       "    <tr>\n",
       "      <th>1</th>\n",
       "      <td>2</td>\n",
       "      <td>55.0</td>\n",
       "      <td>5.0</td>\n",
       "      <td>3</td>\n",
       "      <td>21.5</td>\n",
       "    </tr>\n",
       "    <tr>\n",
       "      <th>2</th>\n",
       "      <td>3</td>\n",
       "      <td>288.0</td>\n",
       "      <td>5.0</td>\n",
       "      <td>10</td>\n",
       "      <td>50.0</td>\n",
       "    </tr>\n",
       "    <tr>\n",
       "      <th>3</th>\n",
       "      <td>4</td>\n",
       "      <td>18.0</td>\n",
       "      <td>4.5</td>\n",
       "      <td>5</td>\n",
       "      <td>36.0</td>\n",
       "    </tr>\n",
       "    <tr>\n",
       "      <th>4</th>\n",
       "      <td>5</td>\n",
       "      <td>308.0</td>\n",
       "      <td>5.0</td>\n",
       "      <td>5</td>\n",
       "      <td>35.0</td>\n",
       "    </tr>\n",
       "  </tbody>\n",
       "</table>\n",
       "</div>"
      ],
      "text/plain": [
       "   Index  Number_of_Reviewer  Rating  Duration  Price\n",
       "0      1               992.0     5.0         1   18.0\n",
       "1      2                55.0     5.0         3   21.5\n",
       "2      3               288.0     5.0        10   50.0\n",
       "3      4                18.0     4.5         5   36.0\n",
       "4      5               308.0     5.0         5   35.0"
      ]
     },
     "execution_count": 7,
     "metadata": {},
     "output_type": "execute_result"
    }
   ],
   "source": [
    "df[numerical_features].head()"
   ]
  },
  {
   "cell_type": "code",
   "execution_count": 8,
   "id": "79e506c1",
   "metadata": {},
   "outputs": [
    {
     "data": {
      "text/html": [
       "<style>#sk-container-id-1 {color: black;background-color: white;}#sk-container-id-1 pre{padding: 0;}#sk-container-id-1 div.sk-toggleable {background-color: white;}#sk-container-id-1 label.sk-toggleable__label {cursor: pointer;display: block;width: 100%;margin-bottom: 0;padding: 0.3em;box-sizing: border-box;text-align: center;}#sk-container-id-1 label.sk-toggleable__label-arrow:before {content: \"▸\";float: left;margin-right: 0.25em;color: #696969;}#sk-container-id-1 label.sk-toggleable__label-arrow:hover:before {color: black;}#sk-container-id-1 div.sk-estimator:hover label.sk-toggleable__label-arrow:before {color: black;}#sk-container-id-1 div.sk-toggleable__content {max-height: 0;max-width: 0;overflow: hidden;text-align: left;background-color: #f0f8ff;}#sk-container-id-1 div.sk-toggleable__content pre {margin: 0.2em;color: black;border-radius: 0.25em;background-color: #f0f8ff;}#sk-container-id-1 input.sk-toggleable__control:checked~div.sk-toggleable__content {max-height: 200px;max-width: 100%;overflow: auto;}#sk-container-id-1 input.sk-toggleable__control:checked~label.sk-toggleable__label-arrow:before {content: \"▾\";}#sk-container-id-1 div.sk-estimator input.sk-toggleable__control:checked~label.sk-toggleable__label {background-color: #d4ebff;}#sk-container-id-1 div.sk-label input.sk-toggleable__control:checked~label.sk-toggleable__label {background-color: #d4ebff;}#sk-container-id-1 input.sk-hidden--visually {border: 0;clip: rect(1px 1px 1px 1px);clip: rect(1px, 1px, 1px, 1px);height: 1px;margin: -1px;overflow: hidden;padding: 0;position: absolute;width: 1px;}#sk-container-id-1 div.sk-estimator {font-family: monospace;background-color: #f0f8ff;border: 1px dotted black;border-radius: 0.25em;box-sizing: border-box;margin-bottom: 0.5em;}#sk-container-id-1 div.sk-estimator:hover {background-color: #d4ebff;}#sk-container-id-1 div.sk-parallel-item::after {content: \"\";width: 100%;border-bottom: 1px solid gray;flex-grow: 1;}#sk-container-id-1 div.sk-label:hover label.sk-toggleable__label {background-color: #d4ebff;}#sk-container-id-1 div.sk-serial::before {content: \"\";position: absolute;border-left: 1px solid gray;box-sizing: border-box;top: 0;bottom: 0;left: 50%;z-index: 0;}#sk-container-id-1 div.sk-serial {display: flex;flex-direction: column;align-items: center;background-color: white;padding-right: 0.2em;padding-left: 0.2em;position: relative;}#sk-container-id-1 div.sk-item {position: relative;z-index: 1;}#sk-container-id-1 div.sk-parallel {display: flex;align-items: stretch;justify-content: center;background-color: white;position: relative;}#sk-container-id-1 div.sk-item::before, #sk-container-id-1 div.sk-parallel-item::before {content: \"\";position: absolute;border-left: 1px solid gray;box-sizing: border-box;top: 0;bottom: 0;left: 50%;z-index: -1;}#sk-container-id-1 div.sk-parallel-item {display: flex;flex-direction: column;z-index: 1;position: relative;background-color: white;}#sk-container-id-1 div.sk-parallel-item:first-child::after {align-self: flex-end;width: 50%;}#sk-container-id-1 div.sk-parallel-item:last-child::after {align-self: flex-start;width: 50%;}#sk-container-id-1 div.sk-parallel-item:only-child::after {width: 0;}#sk-container-id-1 div.sk-dashed-wrapped {border: 1px dashed gray;margin: 0 0.4em 0.5em 0.4em;box-sizing: border-box;padding-bottom: 0.4em;background-color: white;}#sk-container-id-1 div.sk-label label {font-family: monospace;font-weight: bold;display: inline-block;line-height: 1.2em;}#sk-container-id-1 div.sk-label-container {text-align: center;}#sk-container-id-1 div.sk-container {/* jupyter's `normalize.less` sets `[hidden] { display: none; }` but bootstrap.min.css set `[hidden] { display: none !important; }` so we also need the `!important` here to be able to override the default hidden behavior on the sphinx rendered scikit-learn.org. See: https://github.com/scikit-learn/scikit-learn/issues/21755 */display: inline-block !important;position: relative;}#sk-container-id-1 div.sk-text-repr-fallback {display: none;}</style><div id=\"sk-container-id-1\" class=\"sk-top-container\"><div class=\"sk-text-repr-fallback\"><pre>KNNImputer()</pre><b>In a Jupyter environment, please rerun this cell to show the HTML representation or trust the notebook. <br />On GitHub, the HTML representation is unable to render, please try loading this page with nbviewer.org.</b></div><div class=\"sk-container\" hidden><div class=\"sk-item\"><div class=\"sk-estimator sk-toggleable\"><input class=\"sk-toggleable__control sk-hidden--visually\" id=\"sk-estimator-id-1\" type=\"checkbox\" checked><label for=\"sk-estimator-id-1\" class=\"sk-toggleable__label sk-toggleable__label-arrow\">KNNImputer</label><div class=\"sk-toggleable__content\"><pre>KNNImputer()</pre></div></div></div></div></div>"
      ],
      "text/plain": [
       "KNNImputer()"
      ]
     },
     "execution_count": 8,
     "metadata": {},
     "output_type": "execute_result"
    }
   ],
   "source": [
    "num_impute.fit(df[numerical_features])"
   ]
  },
  {
   "attachments": {},
   "cell_type": "markdown",
   "id": "b480ff11",
   "metadata": {},
   "source": [
    "Transform/Apply - df_data"
   ]
  },
  {
   "cell_type": "code",
   "execution_count": 9,
   "id": "62dc8477",
   "metadata": {},
   "outputs": [],
   "source": [
    "df[numerical_features] = num_impute.transform(df[numerical_features])"
   ]
  },
  {
   "cell_type": "code",
   "execution_count": 10,
   "id": "5826fb4e",
   "metadata": {},
   "outputs": [
    {
     "name": "stdout",
     "output_type": "stream",
     "text": [
      "Index                  0\n",
      "Tour_Name              0\n",
      "Tour_Type              2\n",
      "Number_of_Reviewer     0\n",
      "Rating                 0\n",
      "Duration               0\n",
      "Price                  0\n",
      "Highlight              0\n",
      "Location              30\n",
      "dtype: int64\n"
     ]
    }
   ],
   "source": [
    "print(df.isnull().sum())"
   ]
  },
  {
   "attachments": {},
   "cell_type": "markdown",
   "id": "73c7bc62",
   "metadata": {},
   "source": [
    "## Impute Missing Values of Category Data Type"
   ]
  },
  {
   "attachments": {},
   "cell_type": "markdown",
   "id": "d8326f31",
   "metadata": {},
   "source": [
    "Since there is only a small amount of missing value for category type, we decide to drop it."
   ]
  },
  {
   "cell_type": "code",
   "execution_count": 11,
   "id": "2188fbbb",
   "metadata": {},
   "outputs": [],
   "source": [
    "df.dropna(subset=['Tour_Type'], inplace=True)\n",
    "df.dropna(subset=['Location'], inplace=True)"
   ]
  },
  {
   "attachments": {},
   "cell_type": "markdown",
   "id": "babf3901",
   "metadata": {},
   "source": [
    "## Final Check"
   ]
  },
  {
   "cell_type": "code",
   "execution_count": 12,
   "id": "0bc5170f",
   "metadata": {},
   "outputs": [
    {
     "name": "stdout",
     "output_type": "stream",
     "text": [
      "Index                 0\n",
      "Tour_Name             0\n",
      "Tour_Type             0\n",
      "Number_of_Reviewer    0\n",
      "Rating                0\n",
      "Duration              0\n",
      "Price                 0\n",
      "Highlight             0\n",
      "Location              0\n",
      "dtype: int64\n"
     ]
    }
   ],
   "source": [
    "print(df.isnull().sum())"
   ]
  },
  {
   "cell_type": "code",
   "execution_count": 13,
   "id": "cc0561c5",
   "metadata": {},
   "outputs": [
    {
     "data": {
      "text/html": [
       "<div>\n",
       "<style scoped>\n",
       "    .dataframe tbody tr th:only-of-type {\n",
       "        vertical-align: middle;\n",
       "    }\n",
       "\n",
       "    .dataframe tbody tr th {\n",
       "        vertical-align: top;\n",
       "    }\n",
       "\n",
       "    .dataframe thead th {\n",
       "        text-align: right;\n",
       "    }\n",
       "</style>\n",
       "<table border=\"1\" class=\"dataframe\">\n",
       "  <thead>\n",
       "    <tr style=\"text-align: right;\">\n",
       "      <th></th>\n",
       "      <th>Index</th>\n",
       "      <th>Tour_Name</th>\n",
       "      <th>Tour_Type</th>\n",
       "      <th>Number_of_Reviewer</th>\n",
       "      <th>Rating</th>\n",
       "      <th>Duration</th>\n",
       "      <th>Price</th>\n",
       "      <th>Highlight</th>\n",
       "      <th>Location</th>\n",
       "    </tr>\n",
       "  </thead>\n",
       "  <tbody>\n",
       "    <tr>\n",
       "      <th>0</th>\n",
       "      <td>1.0</td>\n",
       "      <td>Phare: The Cambodian Circus Show in Siem Reap</td>\n",
       "      <td>Comedy Shows</td>\n",
       "      <td>992.0</td>\n",
       "      <td>5.0</td>\n",
       "      <td>1.0</td>\n",
       "      <td>18.000</td>\n",
       "      <td>Siem Reap's most original, authentic live perf...</td>\n",
       "      <td>Asia, Cambodia, Siem Reap Province, Siem Reap,...</td>\n",
       "    </tr>\n",
       "    <tr>\n",
       "      <th>1</th>\n",
       "      <td>2.0</td>\n",
       "      <td>Khmer Gourmet Cooking Class</td>\n",
       "      <td>Cooking Classes</td>\n",
       "      <td>55.0</td>\n",
       "      <td>5.0</td>\n",
       "      <td>3.0</td>\n",
       "      <td>21.500</td>\n",
       "      <td>In-person guide</td>\n",
       "      <td>Asia, Cambodia, Siem Reap Province, Siem Reap,...</td>\n",
       "    </tr>\n",
       "    <tr>\n",
       "      <th>2</th>\n",
       "      <td>3.0</td>\n",
       "      <td>Koh Ker &amp; Beng Mealea Full-Day Join-in Tour</td>\n",
       "      <td>Full-day Tours</td>\n",
       "      <td>288.0</td>\n",
       "      <td>5.0</td>\n",
       "      <td>10.0</td>\n",
       "      <td>50.000</td>\n",
       "      <td>Cold towels &amp; Bottled water, Professional Engl...</td>\n",
       "      <td>Asia, Cambodia, Siem Reap Province, Siem Reap,...</td>\n",
       "    </tr>\n",
       "    <tr>\n",
       "      <th>3</th>\n",
       "      <td>4.0</td>\n",
       "      <td>Kampot Day Tour \"Bokor National Park\"</td>\n",
       "      <td>Adventure Tours</td>\n",
       "      <td>18.0</td>\n",
       "      <td>4.5</td>\n",
       "      <td>5.0</td>\n",
       "      <td>36.000</td>\n",
       "      <td>Transportation: Tuk Tuk, English speaking driv...</td>\n",
       "      <td>Asia, Cambodia, Kampot Province, Kampot, Thing...</td>\n",
       "    </tr>\n",
       "    <tr>\n",
       "      <th>4</th>\n",
       "      <td>5.0</td>\n",
       "      <td>Bike the Siem Reap Countryside with Local Expert</td>\n",
       "      <td>Adventure Tours</td>\n",
       "      <td>308.0</td>\n",
       "      <td>5.0</td>\n",
       "      <td>5.0</td>\n",
       "      <td>35.000</td>\n",
       "      <td>Hotel pick up &amp; Drop Off, Professional local E...</td>\n",
       "      <td>Asia, Cambodia, Siem Reap Province, Siem Reap,...</td>\n",
       "    </tr>\n",
       "    <tr>\n",
       "      <th>...</th>\n",
       "      <td>...</td>\n",
       "      <td>...</td>\n",
       "      <td>...</td>\n",
       "      <td>...</td>\n",
       "      <td>...</td>\n",
       "      <td>...</td>\n",
       "      <td>...</td>\n",
       "      <td>...</td>\n",
       "      <td>...</td>\n",
       "    </tr>\n",
       "    <tr>\n",
       "      <th>4780</th>\n",
       "      <td>4781.0</td>\n",
       "      <td>Koh Khe Beng Mealea less crowded Private Tour</td>\n",
       "      <td>Museum Tickets &amp; Passes</td>\n",
       "      <td>6.6</td>\n",
       "      <td>4.8</td>\n",
       "      <td>10.0</td>\n",
       "      <td>92.232</td>\n",
       "      <td>English Speaking Tour guide, air conditioner c...</td>\n",
       "      <td>Siem Reap, Cambodia</td>\n",
       "    </tr>\n",
       "    <tr>\n",
       "      <th>4781</th>\n",
       "      <td>4782.0</td>\n",
       "      <td>Special Angkor Sunrise &amp; Sunset Tour</td>\n",
       "      <td>Full-day Tours</td>\n",
       "      <td>7.4</td>\n",
       "      <td>5.0</td>\n",
       "      <td>9.0</td>\n",
       "      <td>61.540</td>\n",
       "      <td>English speaking tourist guide, Hotel pick up ...</td>\n",
       "      <td>Siem Reap, Cambodia</td>\n",
       "    </tr>\n",
       "    <tr>\n",
       "      <th>4782</th>\n",
       "      <td>4783.0</td>\n",
       "      <td>Most Amazing Angkor Tour</td>\n",
       "      <td>Adventure Tours</td>\n",
       "      <td>1.0</td>\n",
       "      <td>5.0</td>\n",
       "      <td>12.0</td>\n",
       "      <td>92.232</td>\n",
       "      <td>Guided Tour</td>\n",
       "      <td>Krong Siem Reap, Cambodia</td>\n",
       "    </tr>\n",
       "    <tr>\n",
       "      <th>4783</th>\n",
       "      <td>4784.0</td>\n",
       "      <td>Amazing Koh Ker And Beng Mealea Tour</td>\n",
       "      <td>Full-day Tours</td>\n",
       "      <td>5.0</td>\n",
       "      <td>5.0</td>\n",
       "      <td>9.0</td>\n",
       "      <td>90.000</td>\n",
       "      <td>English speaking tourist guide, Private transp...</td>\n",
       "      <td>Siem Reap, Cambodia</td>\n",
       "    </tr>\n",
       "    <tr>\n",
       "      <th>4784</th>\n",
       "      <td>4785.0</td>\n",
       "      <td>Siem Reap - Our famous French Building Provinc...</td>\n",
       "      <td>Hiking Tours</td>\n",
       "      <td>1.0</td>\n",
       "      <td>5.0</td>\n",
       "      <td>8.0</td>\n",
       "      <td>173.080</td>\n",
       "      <td>English Local Tour Guide (Licensed Tour Guide)...</td>\n",
       "      <td>Siem Reap, Cambodia</td>\n",
       "    </tr>\n",
       "  </tbody>\n",
       "</table>\n",
       "<p>4753 rows × 9 columns</p>\n",
       "</div>"
      ],
      "text/plain": [
       "       Index                                          Tour_Name  \\\n",
       "0        1.0      Phare: The Cambodian Circus Show in Siem Reap   \n",
       "1        2.0                        Khmer Gourmet Cooking Class   \n",
       "2        3.0        Koh Ker & Beng Mealea Full-Day Join-in Tour   \n",
       "3        4.0              Kampot Day Tour \"Bokor National Park\"   \n",
       "4        5.0   Bike the Siem Reap Countryside with Local Expert   \n",
       "...      ...                                                ...   \n",
       "4780  4781.0      Koh Khe Beng Mealea less crowded Private Tour   \n",
       "4781  4782.0               Special Angkor Sunrise & Sunset Tour   \n",
       "4782  4783.0                           Most Amazing Angkor Tour   \n",
       "4783  4784.0               Amazing Koh Ker And Beng Mealea Tour   \n",
       "4784  4785.0  Siem Reap - Our famous French Building Provinc...   \n",
       "\n",
       "                    Tour_Type  Number_of_Reviewer  Rating  Duration    Price  \\\n",
       "0                Comedy Shows               992.0     5.0       1.0   18.000   \n",
       "1             Cooking Classes                55.0     5.0       3.0   21.500   \n",
       "2              Full-day Tours               288.0     5.0      10.0   50.000   \n",
       "3             Adventure Tours                18.0     4.5       5.0   36.000   \n",
       "4             Adventure Tours               308.0     5.0       5.0   35.000   \n",
       "...                       ...                 ...     ...       ...      ...   \n",
       "4780  Museum Tickets & Passes                 6.6     4.8      10.0   92.232   \n",
       "4781           Full-day Tours                 7.4     5.0       9.0   61.540   \n",
       "4782          Adventure Tours                 1.0     5.0      12.0   92.232   \n",
       "4783           Full-day Tours                 5.0     5.0       9.0   90.000   \n",
       "4784             Hiking Tours                 1.0     5.0       8.0  173.080   \n",
       "\n",
       "                                              Highlight  \\\n",
       "0     Siem Reap's most original, authentic live perf...   \n",
       "1                                       In-person guide   \n",
       "2     Cold towels & Bottled water, Professional Engl...   \n",
       "3     Transportation: Tuk Tuk, English speaking driv...   \n",
       "4     Hotel pick up & Drop Off, Professional local E...   \n",
       "...                                                 ...   \n",
       "4780  English Speaking Tour guide, air conditioner c...   \n",
       "4781  English speaking tourist guide, Hotel pick up ...   \n",
       "4782                                        Guided Tour   \n",
       "4783  English speaking tourist guide, Private transp...   \n",
       "4784  English Local Tour Guide (Licensed Tour Guide)...   \n",
       "\n",
       "                                               Location  \n",
       "0     Asia, Cambodia, Siem Reap Province, Siem Reap,...  \n",
       "1     Asia, Cambodia, Siem Reap Province, Siem Reap,...  \n",
       "2     Asia, Cambodia, Siem Reap Province, Siem Reap,...  \n",
       "3     Asia, Cambodia, Kampot Province, Kampot, Thing...  \n",
       "4     Asia, Cambodia, Siem Reap Province, Siem Reap,...  \n",
       "...                                                 ...  \n",
       "4780                                Siem Reap, Cambodia  \n",
       "4781                                Siem Reap, Cambodia  \n",
       "4782                          Krong Siem Reap, Cambodia  \n",
       "4783                                Siem Reap, Cambodia  \n",
       "4784                                Siem Reap, Cambodia  \n",
       "\n",
       "[4753 rows x 9 columns]"
      ]
     },
     "execution_count": 13,
     "metadata": {},
     "output_type": "execute_result"
    }
   ],
   "source": [
    "df"
   ]
  },
  {
   "attachments": {},
   "cell_type": "markdown",
   "id": "d4eba730",
   "metadata": {},
   "source": [
    "## Check Duplicate Value"
   ]
  },
  {
   "cell_type": "code",
   "execution_count": 14,
   "id": "186004c8",
   "metadata": {},
   "outputs": [
    {
     "name": "stdout",
     "output_type": "stream",
     "text": [
      "Number of duplicate values in column ['Tour_Name']: 2164\n",
      "Number of remaining rows after dropping duplicates: 2589\n"
     ]
    }
   ],
   "source": [
    "# select the column for which you want to check the number of duplicates\n",
    "col_name = ['Tour_Name']\n",
    "\n",
    "# count the number of duplicate values in the selected column\n",
    "num_duplicates = df.duplicated(subset=col_name).sum()\n",
    "\n",
    "# drop the duplicate rows\n",
    "df.drop_duplicates(subset=col_name, inplace=True)\n",
    "\n",
    "# print the number of duplicate values\n",
    "print(\"Number of duplicate values in column {}: {}\".format(col_name, num_duplicates))\n",
    "\n",
    "# confirm the duplicates have been removed\n",
    "print(\"Number of remaining rows after dropping duplicates: {}\".format(len(df)))\n"
   ]
  },
  {
   "attachments": {},
   "cell_type": "markdown",
   "id": "b659b751",
   "metadata": {},
   "source": [
    "## Final Check"
   ]
  },
  {
   "cell_type": "code",
   "execution_count": 15,
   "id": "924607d2",
   "metadata": {},
   "outputs": [
    {
     "name": "stdout",
     "output_type": "stream",
     "text": [
      "Number of duplicate values in column ['Tour_Name']: 0\n"
     ]
    }
   ],
   "source": [
    "# select the column for which you want to check the number of duplicates\n",
    "col_name = ['Tour_Name']\n",
    "\n",
    "# count the number of duplicate values in the selected column\n",
    "num_duplicates = df.duplicated(subset=col_name).sum()\n",
    "\n",
    "# drop the duplicate rows\n",
    "df.drop_duplicates(subset=col_name, inplace=True)\n",
    "\n",
    "# print the number of duplicate values\n",
    "print(\"Number of duplicate values in column {}: {}\".format(col_name, num_duplicates))"
   ]
  },
  {
   "cell_type": "code",
   "execution_count": 16,
   "id": "2b4f2b95",
   "metadata": {},
   "outputs": [],
   "source": [
    "df.to_csv('Impute_data.csv', index=False)"
   ]
  },
  {
   "attachments": {},
   "cell_type": "markdown",
   "id": "b36ce91c",
   "metadata": {},
   "source": [
    "## 3.Data Analysis"
   ]
  },
  {
   "attachments": {},
   "cell_type": "markdown",
   "id": "a0a163eb",
   "metadata": {},
   "source": [
    "Understand the data distribution of Tour Type"
   ]
  },
  {
   "cell_type": "code",
   "execution_count": 17,
   "id": "c1974725",
   "metadata": {},
   "outputs": [
    {
     "data": {
      "text/html": [
       "<div>\n",
       "<style scoped>\n",
       "    .dataframe tbody tr th:only-of-type {\n",
       "        vertical-align: middle;\n",
       "    }\n",
       "\n",
       "    .dataframe tbody tr th {\n",
       "        vertical-align: top;\n",
       "    }\n",
       "\n",
       "    .dataframe thead th {\n",
       "        text-align: right;\n",
       "    }\n",
       "</style>\n",
       "<table border=\"1\" class=\"dataframe\">\n",
       "  <thead>\n",
       "    <tr style=\"text-align: right;\">\n",
       "      <th></th>\n",
       "      <th>Tour_Type</th>\n",
       "      <th>Counts</th>\n",
       "      <th>Percent</th>\n",
       "    </tr>\n",
       "  </thead>\n",
       "  <tbody>\n",
       "    <tr>\n",
       "      <th>0</th>\n",
       "      <td>Bus Tours</td>\n",
       "      <td>911</td>\n",
       "      <td>35.19</td>\n",
       "    </tr>\n",
       "    <tr>\n",
       "      <th>1</th>\n",
       "      <td>Full-day Tours</td>\n",
       "      <td>736</td>\n",
       "      <td>28.43</td>\n",
       "    </tr>\n",
       "    <tr>\n",
       "      <th>2</th>\n",
       "      <td>Adventure Tours</td>\n",
       "      <td>266</td>\n",
       "      <td>10.27</td>\n",
       "    </tr>\n",
       "    <tr>\n",
       "      <th>3</th>\n",
       "      <td>Half-day Tours</td>\n",
       "      <td>51</td>\n",
       "      <td>1.97</td>\n",
       "    </tr>\n",
       "    <tr>\n",
       "      <th>4</th>\n",
       "      <td>Multi-day Tours</td>\n",
       "      <td>50</td>\n",
       "      <td>1.93</td>\n",
       "    </tr>\n",
       "    <tr>\n",
       "      <th>...</th>\n",
       "      <td>...</td>\n",
       "      <td>...</td>\n",
       "      <td>...</td>\n",
       "    </tr>\n",
       "    <tr>\n",
       "      <th>63</th>\n",
       "      <td>Mixology Classes</td>\n",
       "      <td>1</td>\n",
       "      <td>0.04</td>\n",
       "    </tr>\n",
       "    <tr>\n",
       "      <th>64</th>\n",
       "      <td>Family-friendly Shows</td>\n",
       "      <td>1</td>\n",
       "      <td>0.04</td>\n",
       "    </tr>\n",
       "    <tr>\n",
       "      <th>65</th>\n",
       "      <td>Motorcycle Tours</td>\n",
       "      <td>1</td>\n",
       "      <td>0.04</td>\n",
       "    </tr>\n",
       "    <tr>\n",
       "      <th>66</th>\n",
       "      <td>Circuit Tours</td>\n",
       "      <td>1</td>\n",
       "      <td>0.04</td>\n",
       "    </tr>\n",
       "    <tr>\n",
       "      <th>67</th>\n",
       "      <td>Sightseeing Tours</td>\n",
       "      <td>1</td>\n",
       "      <td>0.04</td>\n",
       "    </tr>\n",
       "  </tbody>\n",
       "</table>\n",
       "<p>68 rows × 3 columns</p>\n",
       "</div>"
      ],
      "text/plain": [
       "                Tour_Type  Counts  Percent\n",
       "0               Bus Tours     911    35.19\n",
       "1          Full-day Tours     736    28.43\n",
       "2         Adventure Tours     266    10.27\n",
       "3          Half-day Tours      51     1.97\n",
       "4         Multi-day Tours      50     1.93\n",
       "..                    ...     ...      ...\n",
       "63       Mixology Classes       1     0.04\n",
       "64  Family-friendly Shows       1     0.04\n",
       "65       Motorcycle Tours       1     0.04\n",
       "66          Circuit Tours       1     0.04\n",
       "67      Sightseeing Tours       1     0.04\n",
       "\n",
       "[68 rows x 3 columns]"
      ]
     },
     "metadata": {},
     "output_type": "display_data"
    },
    {
     "data": {
      "application/vnd.plotly.v1+json": {
       "config": {
        "plotlyServerURL": "https://plot.ly"
       },
       "data": [
        {
         "alignmentgroup": "True",
         "hovertemplate": "Tour_Type=%{x}<br>Counts=%{marker.color}<extra></extra>",
         "legendgroup": "",
         "marker": {
          "color": [
           911,
           736,
           266,
           51,
           50,
           50,
           48,
           43,
           43,
           39,
           38,
           33,
           33,
           22,
           19,
           13,
           13,
           13,
           10,
           10,
           10,
           9,
           8,
           8,
           7,
           6,
           6,
           6,
           5,
           5,
           4,
           4,
           4,
           4,
           4,
           4,
           4,
           3,
           3,
           3,
           3,
           3,
           3,
           2,
           2,
           2,
           2,
           2,
           2,
           2,
           1,
           1,
           1,
           1,
           1,
           1,
           1,
           1,
           1,
           1,
           1,
           1,
           1,
           1,
           1,
           1,
           1,
           1
          ],
          "coloraxis": "coloraxis",
          "pattern": {
           "shape": ""
          }
         },
         "name": "",
         "offsetgroup": "",
         "orientation": "v",
         "showlegend": false,
         "textposition": "auto",
         "texttemplate": "%{y}",
         "type": "bar",
         "x": [
          "Bus Tours",
          "Full-day Tours",
          "Adventure Tours",
          "Half-day Tours",
          "Multi-day Tours",
          "Cooking Classes",
          "Luxury Car Tours",
          "Tuk Tuk Tours",
          "Private and Luxury",
          "Walking Tours",
          "Bike Tours",
          "City Tours",
          "Overnight Tours",
          "Food Tours",
          "Health Tour",
          "Car Tours",
          "Mountain Bike Tours",
          "Private Sightseeing Tours",
          "Attractions & Museums",
          "Ports of Call Tours",
          "Theater Shows",
          "Rentals",
          "Airport & Hotel Transfers",
          "Day Cruises",
          "Religious Sites",
          "National Parks",
          "Private Drivers",
          "Photography Tours",
          "Classic Car Tours",
          "Art Classes",
          "Pottery Classes",
          "Night Tours",
          "Sunset Cruises",
          "Shore Excursions",
          "Monuments and Memorials",
          "Ancient Ruins",
          "Trikke Tours",
          "Dining Experiences",
          "Health Tours",
          "National Holidays",
          "Hiking Tours",
          "Boxing Classes",
          "Vespa, Scooter & Moped Tours",
          "Lunch Cruises",
          "Comedy Shows",
          "Airport Lounges",
          "Cruise Tours",
          "Balloon Tours",
          "Self-guided Tours",
          "Dinner and Show Tickets",
          "Craft Classes",
          "Cocktail Tastings",
          "Wine Tastings",
          "Nightlife",
          "Shopping Tours",
          "Airboat Tours",
          "Train Tour",
          "Painting Classes",
          "Sightseeing Passes",
          "Aquariums",
          "Japanese Lessons",
          "Wine Tours",
          "Nature Parks",
          "Mixology Classes",
          "Family-friendly Shows",
          "Motorcycle Tours",
          "Circuit Tours",
          "Sightseeing Tours"
         ],
         "xaxis": "x",
         "y": [
          911,
          736,
          266,
          51,
          50,
          50,
          48,
          43,
          43,
          39,
          38,
          33,
          33,
          22,
          19,
          13,
          13,
          13,
          10,
          10,
          10,
          9,
          8,
          8,
          7,
          6,
          6,
          6,
          5,
          5,
          4,
          4,
          4,
          4,
          4,
          4,
          4,
          3,
          3,
          3,
          3,
          3,
          3,
          2,
          2,
          2,
          2,
          2,
          2,
          2,
          1,
          1,
          1,
          1,
          1,
          1,
          1,
          1,
          1,
          1,
          1,
          1,
          1,
          1,
          1,
          1,
          1,
          1
         ],
         "yaxis": "y"
        }
       ],
       "layout": {
        "barmode": "relative",
        "coloraxis": {
         "colorbar": {
          "title": {
           "text": "Counts"
          }
         },
         "colorscale": [
          [
           0,
           "rgb(247,251,255)"
          ],
          [
           0.125,
           "rgb(222,235,247)"
          ],
          [
           0.25,
           "rgb(198,219,239)"
          ],
          [
           0.375,
           "rgb(158,202,225)"
          ],
          [
           0.5,
           "rgb(107,174,214)"
          ],
          [
           0.625,
           "rgb(66,146,198)"
          ],
          [
           0.75,
           "rgb(33,113,181)"
          ],
          [
           0.875,
           "rgb(8,81,156)"
          ],
          [
           1,
           "rgb(8,48,107)"
          ]
         ]
        },
        "legend": {
         "tracegroupgap": 0
        },
        "template": {
         "data": {
          "bar": [
           {
            "error_x": {
             "color": "#2a3f5f"
            },
            "error_y": {
             "color": "#2a3f5f"
            },
            "marker": {
             "line": {
              "color": "#E5ECF6",
              "width": 0.5
             },
             "pattern": {
              "fillmode": "overlay",
              "size": 10,
              "solidity": 0.2
             }
            },
            "type": "bar"
           }
          ],
          "barpolar": [
           {
            "marker": {
             "line": {
              "color": "#E5ECF6",
              "width": 0.5
             },
             "pattern": {
              "fillmode": "overlay",
              "size": 10,
              "solidity": 0.2
             }
            },
            "type": "barpolar"
           }
          ],
          "carpet": [
           {
            "aaxis": {
             "endlinecolor": "#2a3f5f",
             "gridcolor": "white",
             "linecolor": "white",
             "minorgridcolor": "white",
             "startlinecolor": "#2a3f5f"
            },
            "baxis": {
             "endlinecolor": "#2a3f5f",
             "gridcolor": "white",
             "linecolor": "white",
             "minorgridcolor": "white",
             "startlinecolor": "#2a3f5f"
            },
            "type": "carpet"
           }
          ],
          "choropleth": [
           {
            "colorbar": {
             "outlinewidth": 0,
             "ticks": ""
            },
            "type": "choropleth"
           }
          ],
          "contour": [
           {
            "colorbar": {
             "outlinewidth": 0,
             "ticks": ""
            },
            "colorscale": [
             [
              0,
              "#0d0887"
             ],
             [
              0.1111111111111111,
              "#46039f"
             ],
             [
              0.2222222222222222,
              "#7201a8"
             ],
             [
              0.3333333333333333,
              "#9c179e"
             ],
             [
              0.4444444444444444,
              "#bd3786"
             ],
             [
              0.5555555555555556,
              "#d8576b"
             ],
             [
              0.6666666666666666,
              "#ed7953"
             ],
             [
              0.7777777777777778,
              "#fb9f3a"
             ],
             [
              0.8888888888888888,
              "#fdca26"
             ],
             [
              1,
              "#f0f921"
             ]
            ],
            "type": "contour"
           }
          ],
          "contourcarpet": [
           {
            "colorbar": {
             "outlinewidth": 0,
             "ticks": ""
            },
            "type": "contourcarpet"
           }
          ],
          "heatmap": [
           {
            "colorbar": {
             "outlinewidth": 0,
             "ticks": ""
            },
            "colorscale": [
             [
              0,
              "#0d0887"
             ],
             [
              0.1111111111111111,
              "#46039f"
             ],
             [
              0.2222222222222222,
              "#7201a8"
             ],
             [
              0.3333333333333333,
              "#9c179e"
             ],
             [
              0.4444444444444444,
              "#bd3786"
             ],
             [
              0.5555555555555556,
              "#d8576b"
             ],
             [
              0.6666666666666666,
              "#ed7953"
             ],
             [
              0.7777777777777778,
              "#fb9f3a"
             ],
             [
              0.8888888888888888,
              "#fdca26"
             ],
             [
              1,
              "#f0f921"
             ]
            ],
            "type": "heatmap"
           }
          ],
          "heatmapgl": [
           {
            "colorbar": {
             "outlinewidth": 0,
             "ticks": ""
            },
            "colorscale": [
             [
              0,
              "#0d0887"
             ],
             [
              0.1111111111111111,
              "#46039f"
             ],
             [
              0.2222222222222222,
              "#7201a8"
             ],
             [
              0.3333333333333333,
              "#9c179e"
             ],
             [
              0.4444444444444444,
              "#bd3786"
             ],
             [
              0.5555555555555556,
              "#d8576b"
             ],
             [
              0.6666666666666666,
              "#ed7953"
             ],
             [
              0.7777777777777778,
              "#fb9f3a"
             ],
             [
              0.8888888888888888,
              "#fdca26"
             ],
             [
              1,
              "#f0f921"
             ]
            ],
            "type": "heatmapgl"
           }
          ],
          "histogram": [
           {
            "marker": {
             "pattern": {
              "fillmode": "overlay",
              "size": 10,
              "solidity": 0.2
             }
            },
            "type": "histogram"
           }
          ],
          "histogram2d": [
           {
            "colorbar": {
             "outlinewidth": 0,
             "ticks": ""
            },
            "colorscale": [
             [
              0,
              "#0d0887"
             ],
             [
              0.1111111111111111,
              "#46039f"
             ],
             [
              0.2222222222222222,
              "#7201a8"
             ],
             [
              0.3333333333333333,
              "#9c179e"
             ],
             [
              0.4444444444444444,
              "#bd3786"
             ],
             [
              0.5555555555555556,
              "#d8576b"
             ],
             [
              0.6666666666666666,
              "#ed7953"
             ],
             [
              0.7777777777777778,
              "#fb9f3a"
             ],
             [
              0.8888888888888888,
              "#fdca26"
             ],
             [
              1,
              "#f0f921"
             ]
            ],
            "type": "histogram2d"
           }
          ],
          "histogram2dcontour": [
           {
            "colorbar": {
             "outlinewidth": 0,
             "ticks": ""
            },
            "colorscale": [
             [
              0,
              "#0d0887"
             ],
             [
              0.1111111111111111,
              "#46039f"
             ],
             [
              0.2222222222222222,
              "#7201a8"
             ],
             [
              0.3333333333333333,
              "#9c179e"
             ],
             [
              0.4444444444444444,
              "#bd3786"
             ],
             [
              0.5555555555555556,
              "#d8576b"
             ],
             [
              0.6666666666666666,
              "#ed7953"
             ],
             [
              0.7777777777777778,
              "#fb9f3a"
             ],
             [
              0.8888888888888888,
              "#fdca26"
             ],
             [
              1,
              "#f0f921"
             ]
            ],
            "type": "histogram2dcontour"
           }
          ],
          "mesh3d": [
           {
            "colorbar": {
             "outlinewidth": 0,
             "ticks": ""
            },
            "type": "mesh3d"
           }
          ],
          "parcoords": [
           {
            "line": {
             "colorbar": {
              "outlinewidth": 0,
              "ticks": ""
             }
            },
            "type": "parcoords"
           }
          ],
          "pie": [
           {
            "automargin": true,
            "type": "pie"
           }
          ],
          "scatter": [
           {
            "fillpattern": {
             "fillmode": "overlay",
             "size": 10,
             "solidity": 0.2
            },
            "type": "scatter"
           }
          ],
          "scatter3d": [
           {
            "line": {
             "colorbar": {
              "outlinewidth": 0,
              "ticks": ""
             }
            },
            "marker": {
             "colorbar": {
              "outlinewidth": 0,
              "ticks": ""
             }
            },
            "type": "scatter3d"
           }
          ],
          "scattercarpet": [
           {
            "marker": {
             "colorbar": {
              "outlinewidth": 0,
              "ticks": ""
             }
            },
            "type": "scattercarpet"
           }
          ],
          "scattergeo": [
           {
            "marker": {
             "colorbar": {
              "outlinewidth": 0,
              "ticks": ""
             }
            },
            "type": "scattergeo"
           }
          ],
          "scattergl": [
           {
            "marker": {
             "colorbar": {
              "outlinewidth": 0,
              "ticks": ""
             }
            },
            "type": "scattergl"
           }
          ],
          "scattermapbox": [
           {
            "marker": {
             "colorbar": {
              "outlinewidth": 0,
              "ticks": ""
             }
            },
            "type": "scattermapbox"
           }
          ],
          "scatterpolar": [
           {
            "marker": {
             "colorbar": {
              "outlinewidth": 0,
              "ticks": ""
             }
            },
            "type": "scatterpolar"
           }
          ],
          "scatterpolargl": [
           {
            "marker": {
             "colorbar": {
              "outlinewidth": 0,
              "ticks": ""
             }
            },
            "type": "scatterpolargl"
           }
          ],
          "scatterternary": [
           {
            "marker": {
             "colorbar": {
              "outlinewidth": 0,
              "ticks": ""
             }
            },
            "type": "scatterternary"
           }
          ],
          "surface": [
           {
            "colorbar": {
             "outlinewidth": 0,
             "ticks": ""
            },
            "colorscale": [
             [
              0,
              "#0d0887"
             ],
             [
              0.1111111111111111,
              "#46039f"
             ],
             [
              0.2222222222222222,
              "#7201a8"
             ],
             [
              0.3333333333333333,
              "#9c179e"
             ],
             [
              0.4444444444444444,
              "#bd3786"
             ],
             [
              0.5555555555555556,
              "#d8576b"
             ],
             [
              0.6666666666666666,
              "#ed7953"
             ],
             [
              0.7777777777777778,
              "#fb9f3a"
             ],
             [
              0.8888888888888888,
              "#fdca26"
             ],
             [
              1,
              "#f0f921"
             ]
            ],
            "type": "surface"
           }
          ],
          "table": [
           {
            "cells": {
             "fill": {
              "color": "#EBF0F8"
             },
             "line": {
              "color": "white"
             }
            },
            "header": {
             "fill": {
              "color": "#C8D4E3"
             },
             "line": {
              "color": "white"
             }
            },
            "type": "table"
           }
          ]
         },
         "layout": {
          "annotationdefaults": {
           "arrowcolor": "#2a3f5f",
           "arrowhead": 0,
           "arrowwidth": 1
          },
          "autotypenumbers": "strict",
          "coloraxis": {
           "colorbar": {
            "outlinewidth": 0,
            "ticks": ""
           }
          },
          "colorscale": {
           "diverging": [
            [
             0,
             "#8e0152"
            ],
            [
             0.1,
             "#c51b7d"
            ],
            [
             0.2,
             "#de77ae"
            ],
            [
             0.3,
             "#f1b6da"
            ],
            [
             0.4,
             "#fde0ef"
            ],
            [
             0.5,
             "#f7f7f7"
            ],
            [
             0.6,
             "#e6f5d0"
            ],
            [
             0.7,
             "#b8e186"
            ],
            [
             0.8,
             "#7fbc41"
            ],
            [
             0.9,
             "#4d9221"
            ],
            [
             1,
             "#276419"
            ]
           ],
           "sequential": [
            [
             0,
             "#0d0887"
            ],
            [
             0.1111111111111111,
             "#46039f"
            ],
            [
             0.2222222222222222,
             "#7201a8"
            ],
            [
             0.3333333333333333,
             "#9c179e"
            ],
            [
             0.4444444444444444,
             "#bd3786"
            ],
            [
             0.5555555555555556,
             "#d8576b"
            ],
            [
             0.6666666666666666,
             "#ed7953"
            ],
            [
             0.7777777777777778,
             "#fb9f3a"
            ],
            [
             0.8888888888888888,
             "#fdca26"
            ],
            [
             1,
             "#f0f921"
            ]
           ],
           "sequentialminus": [
            [
             0,
             "#0d0887"
            ],
            [
             0.1111111111111111,
             "#46039f"
            ],
            [
             0.2222222222222222,
             "#7201a8"
            ],
            [
             0.3333333333333333,
             "#9c179e"
            ],
            [
             0.4444444444444444,
             "#bd3786"
            ],
            [
             0.5555555555555556,
             "#d8576b"
            ],
            [
             0.6666666666666666,
             "#ed7953"
            ],
            [
             0.7777777777777778,
             "#fb9f3a"
            ],
            [
             0.8888888888888888,
             "#fdca26"
            ],
            [
             1,
             "#f0f921"
            ]
           ]
          },
          "colorway": [
           "#636efa",
           "#EF553B",
           "#00cc96",
           "#ab63fa",
           "#FFA15A",
           "#19d3f3",
           "#FF6692",
           "#B6E880",
           "#FF97FF",
           "#FECB52"
          ],
          "font": {
           "color": "#2a3f5f"
          },
          "geo": {
           "bgcolor": "white",
           "lakecolor": "white",
           "landcolor": "#E5ECF6",
           "showlakes": true,
           "showland": true,
           "subunitcolor": "white"
          },
          "hoverlabel": {
           "align": "left"
          },
          "hovermode": "closest",
          "mapbox": {
           "style": "light"
          },
          "paper_bgcolor": "white",
          "plot_bgcolor": "#E5ECF6",
          "polar": {
           "angularaxis": {
            "gridcolor": "white",
            "linecolor": "white",
            "ticks": ""
           },
           "bgcolor": "#E5ECF6",
           "radialaxis": {
            "gridcolor": "white",
            "linecolor": "white",
            "ticks": ""
           }
          },
          "scene": {
           "xaxis": {
            "backgroundcolor": "#E5ECF6",
            "gridcolor": "white",
            "gridwidth": 2,
            "linecolor": "white",
            "showbackground": true,
            "ticks": "",
            "zerolinecolor": "white"
           },
           "yaxis": {
            "backgroundcolor": "#E5ECF6",
            "gridcolor": "white",
            "gridwidth": 2,
            "linecolor": "white",
            "showbackground": true,
            "ticks": "",
            "zerolinecolor": "white"
           },
           "zaxis": {
            "backgroundcolor": "#E5ECF6",
            "gridcolor": "white",
            "gridwidth": 2,
            "linecolor": "white",
            "showbackground": true,
            "ticks": "",
            "zerolinecolor": "white"
           }
          },
          "shapedefaults": {
           "line": {
            "color": "#2a3f5f"
           }
          },
          "ternary": {
           "aaxis": {
            "gridcolor": "white",
            "linecolor": "white",
            "ticks": ""
           },
           "baxis": {
            "gridcolor": "white",
            "linecolor": "white",
            "ticks": ""
           },
           "bgcolor": "#E5ECF6",
           "caxis": {
            "gridcolor": "white",
            "linecolor": "white",
            "ticks": ""
           }
          },
          "title": {
           "x": 0.05
          },
          "xaxis": {
           "automargin": true,
           "gridcolor": "white",
           "linecolor": "white",
           "ticks": "",
           "title": {
            "standoff": 15
           },
           "zerolinecolor": "white",
           "zerolinewidth": 2
          },
          "yaxis": {
           "automargin": true,
           "gridcolor": "white",
           "linecolor": "white",
           "ticks": "",
           "title": {
            "standoff": 15
           },
           "zerolinecolor": "white",
           "zerolinewidth": 2
          }
         }
        },
        "title": {
         "text": "Count of Items in Each Tour_Type"
        },
        "xaxis": {
         "anchor": "y",
         "domain": [
          0,
          1
         ],
         "title": {
          "text": "Tour_Type"
         }
        },
        "yaxis": {
         "anchor": "x",
         "domain": [
          0,
          1
         ],
         "title": {
          "text": "Counts"
         }
        }
       }
      }
     },
     "metadata": {},
     "output_type": "display_data"
    }
   ],
   "source": [
    "counts = df['Tour_Type'].value_counts()\n",
    "count_percentage = df['Tour_Type'].value_counts(1)*100\n",
    "counts_df = pd.DataFrame({'Tour_Type':counts.index,'Counts':counts.values,'Percent':np.round(count_percentage.values,2)})\n",
    "display(counts_df)\n",
    "px.bar(data_frame=counts_df,\n",
    " x='Tour_Type',\n",
    " y='Counts',\n",
    " color='Counts',\n",
    " color_continuous_scale='blues',\n",
    " text_auto=True,\n",
    " title=f'Count of Items in Each Tour_Type')"
   ]
  },
  {
   "cell_type": "code",
   "execution_count": 18,
   "id": "9c2879e2",
   "metadata": {},
   "outputs": [
    {
     "name": "stdout",
     "output_type": "stream",
     "text": [
      "unique Tour_Type\n",
      "Top 10 Tour_Type\n"
     ]
    },
    {
     "data": {
      "text/html": [
       "<div>\n",
       "<style scoped>\n",
       "    .dataframe tbody tr th:only-of-type {\n",
       "        vertical-align: middle;\n",
       "    }\n",
       "\n",
       "    .dataframe tbody tr th {\n",
       "        vertical-align: top;\n",
       "    }\n",
       "\n",
       "    .dataframe thead th {\n",
       "        text-align: right;\n",
       "    }\n",
       "</style>\n",
       "<table border=\"1\" class=\"dataframe\">\n",
       "  <thead>\n",
       "    <tr style=\"text-align: right;\">\n",
       "      <th></th>\n",
       "      <th>Tour_Type</th>\n",
       "      <th>Counts</th>\n",
       "      <th>Percent</th>\n",
       "    </tr>\n",
       "  </thead>\n",
       "  <tbody>\n",
       "    <tr>\n",
       "      <th>0</th>\n",
       "      <td>Bus Tours</td>\n",
       "      <td>911</td>\n",
       "      <td>35.19</td>\n",
       "    </tr>\n",
       "    <tr>\n",
       "      <th>1</th>\n",
       "      <td>Full-day Tours</td>\n",
       "      <td>736</td>\n",
       "      <td>28.43</td>\n",
       "    </tr>\n",
       "    <tr>\n",
       "      <th>2</th>\n",
       "      <td>Adventure Tours</td>\n",
       "      <td>266</td>\n",
       "      <td>10.27</td>\n",
       "    </tr>\n",
       "    <tr>\n",
       "      <th>3</th>\n",
       "      <td>Half-day Tours</td>\n",
       "      <td>51</td>\n",
       "      <td>1.97</td>\n",
       "    </tr>\n",
       "    <tr>\n",
       "      <th>4</th>\n",
       "      <td>Multi-day Tours</td>\n",
       "      <td>50</td>\n",
       "      <td>1.93</td>\n",
       "    </tr>\n",
       "    <tr>\n",
       "      <th>5</th>\n",
       "      <td>Cooking Classes</td>\n",
       "      <td>50</td>\n",
       "      <td>1.93</td>\n",
       "    </tr>\n",
       "    <tr>\n",
       "      <th>6</th>\n",
       "      <td>Luxury Car Tours</td>\n",
       "      <td>48</td>\n",
       "      <td>1.85</td>\n",
       "    </tr>\n",
       "    <tr>\n",
       "      <th>7</th>\n",
       "      <td>Tuk Tuk Tours</td>\n",
       "      <td>43</td>\n",
       "      <td>1.66</td>\n",
       "    </tr>\n",
       "    <tr>\n",
       "      <th>8</th>\n",
       "      <td>Private and Luxury</td>\n",
       "      <td>43</td>\n",
       "      <td>1.66</td>\n",
       "    </tr>\n",
       "    <tr>\n",
       "      <th>9</th>\n",
       "      <td>Walking Tours</td>\n",
       "      <td>39</td>\n",
       "      <td>1.51</td>\n",
       "    </tr>\n",
       "  </tbody>\n",
       "</table>\n",
       "</div>"
      ],
      "text/plain": [
       "            Tour_Type  Counts  Percent\n",
       "0           Bus Tours     911    35.19\n",
       "1      Full-day Tours     736    28.43\n",
       "2     Adventure Tours     266    10.27\n",
       "3      Half-day Tours      51     1.97\n",
       "4     Multi-day Tours      50     1.93\n",
       "5     Cooking Classes      50     1.93\n",
       "6    Luxury Car Tours      48     1.85\n",
       "7       Tuk Tuk Tours      43     1.66\n",
       "8  Private and Luxury      43     1.66\n",
       "9       Walking Tours      39     1.51"
      ]
     },
     "metadata": {},
     "output_type": "display_data"
    },
    {
     "name": "stdout",
     "output_type": "stream",
     "text": [
      "Bottom 10 Tour_Type\n"
     ]
    },
    {
     "data": {
      "text/html": [
       "<div>\n",
       "<style scoped>\n",
       "    .dataframe tbody tr th:only-of-type {\n",
       "        vertical-align: middle;\n",
       "    }\n",
       "\n",
       "    .dataframe tbody tr th {\n",
       "        vertical-align: top;\n",
       "    }\n",
       "\n",
       "    .dataframe thead th {\n",
       "        text-align: right;\n",
       "    }\n",
       "</style>\n",
       "<table border=\"1\" class=\"dataframe\">\n",
       "  <thead>\n",
       "    <tr style=\"text-align: right;\">\n",
       "      <th></th>\n",
       "      <th>Tour_Type</th>\n",
       "      <th>Counts</th>\n",
       "      <th>Percent</th>\n",
       "    </tr>\n",
       "  </thead>\n",
       "  <tbody>\n",
       "    <tr>\n",
       "      <th>58</th>\n",
       "      <td>Sightseeing Passes</td>\n",
       "      <td>1</td>\n",
       "      <td>0.04</td>\n",
       "    </tr>\n",
       "    <tr>\n",
       "      <th>59</th>\n",
       "      <td>Aquariums</td>\n",
       "      <td>1</td>\n",
       "      <td>0.04</td>\n",
       "    </tr>\n",
       "    <tr>\n",
       "      <th>60</th>\n",
       "      <td>Japanese Lessons</td>\n",
       "      <td>1</td>\n",
       "      <td>0.04</td>\n",
       "    </tr>\n",
       "    <tr>\n",
       "      <th>61</th>\n",
       "      <td>Wine Tours</td>\n",
       "      <td>1</td>\n",
       "      <td>0.04</td>\n",
       "    </tr>\n",
       "    <tr>\n",
       "      <th>62</th>\n",
       "      <td>Nature Parks</td>\n",
       "      <td>1</td>\n",
       "      <td>0.04</td>\n",
       "    </tr>\n",
       "    <tr>\n",
       "      <th>63</th>\n",
       "      <td>Mixology Classes</td>\n",
       "      <td>1</td>\n",
       "      <td>0.04</td>\n",
       "    </tr>\n",
       "    <tr>\n",
       "      <th>64</th>\n",
       "      <td>Family-friendly Shows</td>\n",
       "      <td>1</td>\n",
       "      <td>0.04</td>\n",
       "    </tr>\n",
       "    <tr>\n",
       "      <th>65</th>\n",
       "      <td>Motorcycle Tours</td>\n",
       "      <td>1</td>\n",
       "      <td>0.04</td>\n",
       "    </tr>\n",
       "    <tr>\n",
       "      <th>66</th>\n",
       "      <td>Circuit Tours</td>\n",
       "      <td>1</td>\n",
       "      <td>0.04</td>\n",
       "    </tr>\n",
       "    <tr>\n",
       "      <th>67</th>\n",
       "      <td>Sightseeing Tours</td>\n",
       "      <td>1</td>\n",
       "      <td>0.04</td>\n",
       "    </tr>\n",
       "  </tbody>\n",
       "</table>\n",
       "</div>"
      ],
      "text/plain": [
       "                Tour_Type  Counts  Percent\n",
       "58     Sightseeing Passes       1     0.04\n",
       "59              Aquariums       1     0.04\n",
       "60       Japanese Lessons       1     0.04\n",
       "61             Wine Tours       1     0.04\n",
       "62           Nature Parks       1     0.04\n",
       "63       Mixology Classes       1     0.04\n",
       "64  Family-friendly Shows       1     0.04\n",
       "65       Motorcycle Tours       1     0.04\n",
       "66          Circuit Tours       1     0.04\n",
       "67      Sightseeing Tours       1     0.04"
      ]
     },
     "metadata": {},
     "output_type": "display_data"
    },
    {
     "data": {
      "application/vnd.plotly.v1+json": {
       "config": {
        "plotlyServerURL": "https://plot.ly"
       },
       "data": [
        {
         "alignmentgroup": "True",
         "hovertemplate": "Tour_Type=%{x}<br>Counts=%{marker.color}<extra></extra>",
         "legendgroup": "",
         "marker": {
          "color": [
           911,
           736,
           266,
           51,
           50,
           50,
           48,
           43,
           43,
           39
          ],
          "coloraxis": "coloraxis",
          "pattern": {
           "shape": ""
          }
         },
         "name": "",
         "offsetgroup": "",
         "orientation": "v",
         "showlegend": false,
         "textposition": "auto",
         "texttemplate": "%{y}",
         "type": "bar",
         "x": [
          "Bus Tours",
          "Full-day Tours",
          "Adventure Tours",
          "Half-day Tours",
          "Multi-day Tours",
          "Cooking Classes",
          "Luxury Car Tours",
          "Tuk Tuk Tours",
          "Private and Luxury",
          "Walking Tours"
         ],
         "xaxis": "x",
         "y": [
          911,
          736,
          266,
          51,
          50,
          50,
          48,
          43,
          43,
          39
         ],
         "yaxis": "y"
        }
       ],
       "layout": {
        "barmode": "relative",
        "coloraxis": {
         "colorbar": {
          "title": {
           "text": "Counts"
          }
         },
         "colorscale": [
          [
           0,
           "rgb(247,251,255)"
          ],
          [
           0.125,
           "rgb(222,235,247)"
          ],
          [
           0.25,
           "rgb(198,219,239)"
          ],
          [
           0.375,
           "rgb(158,202,225)"
          ],
          [
           0.5,
           "rgb(107,174,214)"
          ],
          [
           0.625,
           "rgb(66,146,198)"
          ],
          [
           0.75,
           "rgb(33,113,181)"
          ],
          [
           0.875,
           "rgb(8,81,156)"
          ],
          [
           1,
           "rgb(8,48,107)"
          ]
         ]
        },
        "legend": {
         "tracegroupgap": 0
        },
        "template": {
         "data": {
          "bar": [
           {
            "error_x": {
             "color": "#2a3f5f"
            },
            "error_y": {
             "color": "#2a3f5f"
            },
            "marker": {
             "line": {
              "color": "#E5ECF6",
              "width": 0.5
             },
             "pattern": {
              "fillmode": "overlay",
              "size": 10,
              "solidity": 0.2
             }
            },
            "type": "bar"
           }
          ],
          "barpolar": [
           {
            "marker": {
             "line": {
              "color": "#E5ECF6",
              "width": 0.5
             },
             "pattern": {
              "fillmode": "overlay",
              "size": 10,
              "solidity": 0.2
             }
            },
            "type": "barpolar"
           }
          ],
          "carpet": [
           {
            "aaxis": {
             "endlinecolor": "#2a3f5f",
             "gridcolor": "white",
             "linecolor": "white",
             "minorgridcolor": "white",
             "startlinecolor": "#2a3f5f"
            },
            "baxis": {
             "endlinecolor": "#2a3f5f",
             "gridcolor": "white",
             "linecolor": "white",
             "minorgridcolor": "white",
             "startlinecolor": "#2a3f5f"
            },
            "type": "carpet"
           }
          ],
          "choropleth": [
           {
            "colorbar": {
             "outlinewidth": 0,
             "ticks": ""
            },
            "type": "choropleth"
           }
          ],
          "contour": [
           {
            "colorbar": {
             "outlinewidth": 0,
             "ticks": ""
            },
            "colorscale": [
             [
              0,
              "#0d0887"
             ],
             [
              0.1111111111111111,
              "#46039f"
             ],
             [
              0.2222222222222222,
              "#7201a8"
             ],
             [
              0.3333333333333333,
              "#9c179e"
             ],
             [
              0.4444444444444444,
              "#bd3786"
             ],
             [
              0.5555555555555556,
              "#d8576b"
             ],
             [
              0.6666666666666666,
              "#ed7953"
             ],
             [
              0.7777777777777778,
              "#fb9f3a"
             ],
             [
              0.8888888888888888,
              "#fdca26"
             ],
             [
              1,
              "#f0f921"
             ]
            ],
            "type": "contour"
           }
          ],
          "contourcarpet": [
           {
            "colorbar": {
             "outlinewidth": 0,
             "ticks": ""
            },
            "type": "contourcarpet"
           }
          ],
          "heatmap": [
           {
            "colorbar": {
             "outlinewidth": 0,
             "ticks": ""
            },
            "colorscale": [
             [
              0,
              "#0d0887"
             ],
             [
              0.1111111111111111,
              "#46039f"
             ],
             [
              0.2222222222222222,
              "#7201a8"
             ],
             [
              0.3333333333333333,
              "#9c179e"
             ],
             [
              0.4444444444444444,
              "#bd3786"
             ],
             [
              0.5555555555555556,
              "#d8576b"
             ],
             [
              0.6666666666666666,
              "#ed7953"
             ],
             [
              0.7777777777777778,
              "#fb9f3a"
             ],
             [
              0.8888888888888888,
              "#fdca26"
             ],
             [
              1,
              "#f0f921"
             ]
            ],
            "type": "heatmap"
           }
          ],
          "heatmapgl": [
           {
            "colorbar": {
             "outlinewidth": 0,
             "ticks": ""
            },
            "colorscale": [
             [
              0,
              "#0d0887"
             ],
             [
              0.1111111111111111,
              "#46039f"
             ],
             [
              0.2222222222222222,
              "#7201a8"
             ],
             [
              0.3333333333333333,
              "#9c179e"
             ],
             [
              0.4444444444444444,
              "#bd3786"
             ],
             [
              0.5555555555555556,
              "#d8576b"
             ],
             [
              0.6666666666666666,
              "#ed7953"
             ],
             [
              0.7777777777777778,
              "#fb9f3a"
             ],
             [
              0.8888888888888888,
              "#fdca26"
             ],
             [
              1,
              "#f0f921"
             ]
            ],
            "type": "heatmapgl"
           }
          ],
          "histogram": [
           {
            "marker": {
             "pattern": {
              "fillmode": "overlay",
              "size": 10,
              "solidity": 0.2
             }
            },
            "type": "histogram"
           }
          ],
          "histogram2d": [
           {
            "colorbar": {
             "outlinewidth": 0,
             "ticks": ""
            },
            "colorscale": [
             [
              0,
              "#0d0887"
             ],
             [
              0.1111111111111111,
              "#46039f"
             ],
             [
              0.2222222222222222,
              "#7201a8"
             ],
             [
              0.3333333333333333,
              "#9c179e"
             ],
             [
              0.4444444444444444,
              "#bd3786"
             ],
             [
              0.5555555555555556,
              "#d8576b"
             ],
             [
              0.6666666666666666,
              "#ed7953"
             ],
             [
              0.7777777777777778,
              "#fb9f3a"
             ],
             [
              0.8888888888888888,
              "#fdca26"
             ],
             [
              1,
              "#f0f921"
             ]
            ],
            "type": "histogram2d"
           }
          ],
          "histogram2dcontour": [
           {
            "colorbar": {
             "outlinewidth": 0,
             "ticks": ""
            },
            "colorscale": [
             [
              0,
              "#0d0887"
             ],
             [
              0.1111111111111111,
              "#46039f"
             ],
             [
              0.2222222222222222,
              "#7201a8"
             ],
             [
              0.3333333333333333,
              "#9c179e"
             ],
             [
              0.4444444444444444,
              "#bd3786"
             ],
             [
              0.5555555555555556,
              "#d8576b"
             ],
             [
              0.6666666666666666,
              "#ed7953"
             ],
             [
              0.7777777777777778,
              "#fb9f3a"
             ],
             [
              0.8888888888888888,
              "#fdca26"
             ],
             [
              1,
              "#f0f921"
             ]
            ],
            "type": "histogram2dcontour"
           }
          ],
          "mesh3d": [
           {
            "colorbar": {
             "outlinewidth": 0,
             "ticks": ""
            },
            "type": "mesh3d"
           }
          ],
          "parcoords": [
           {
            "line": {
             "colorbar": {
              "outlinewidth": 0,
              "ticks": ""
             }
            },
            "type": "parcoords"
           }
          ],
          "pie": [
           {
            "automargin": true,
            "type": "pie"
           }
          ],
          "scatter": [
           {
            "fillpattern": {
             "fillmode": "overlay",
             "size": 10,
             "solidity": 0.2
            },
            "type": "scatter"
           }
          ],
          "scatter3d": [
           {
            "line": {
             "colorbar": {
              "outlinewidth": 0,
              "ticks": ""
             }
            },
            "marker": {
             "colorbar": {
              "outlinewidth": 0,
              "ticks": ""
             }
            },
            "type": "scatter3d"
           }
          ],
          "scattercarpet": [
           {
            "marker": {
             "colorbar": {
              "outlinewidth": 0,
              "ticks": ""
             }
            },
            "type": "scattercarpet"
           }
          ],
          "scattergeo": [
           {
            "marker": {
             "colorbar": {
              "outlinewidth": 0,
              "ticks": ""
             }
            },
            "type": "scattergeo"
           }
          ],
          "scattergl": [
           {
            "marker": {
             "colorbar": {
              "outlinewidth": 0,
              "ticks": ""
             }
            },
            "type": "scattergl"
           }
          ],
          "scattermapbox": [
           {
            "marker": {
             "colorbar": {
              "outlinewidth": 0,
              "ticks": ""
             }
            },
            "type": "scattermapbox"
           }
          ],
          "scatterpolar": [
           {
            "marker": {
             "colorbar": {
              "outlinewidth": 0,
              "ticks": ""
             }
            },
            "type": "scatterpolar"
           }
          ],
          "scatterpolargl": [
           {
            "marker": {
             "colorbar": {
              "outlinewidth": 0,
              "ticks": ""
             }
            },
            "type": "scatterpolargl"
           }
          ],
          "scatterternary": [
           {
            "marker": {
             "colorbar": {
              "outlinewidth": 0,
              "ticks": ""
             }
            },
            "type": "scatterternary"
           }
          ],
          "surface": [
           {
            "colorbar": {
             "outlinewidth": 0,
             "ticks": ""
            },
            "colorscale": [
             [
              0,
              "#0d0887"
             ],
             [
              0.1111111111111111,
              "#46039f"
             ],
             [
              0.2222222222222222,
              "#7201a8"
             ],
             [
              0.3333333333333333,
              "#9c179e"
             ],
             [
              0.4444444444444444,
              "#bd3786"
             ],
             [
              0.5555555555555556,
              "#d8576b"
             ],
             [
              0.6666666666666666,
              "#ed7953"
             ],
             [
              0.7777777777777778,
              "#fb9f3a"
             ],
             [
              0.8888888888888888,
              "#fdca26"
             ],
             [
              1,
              "#f0f921"
             ]
            ],
            "type": "surface"
           }
          ],
          "table": [
           {
            "cells": {
             "fill": {
              "color": "#EBF0F8"
             },
             "line": {
              "color": "white"
             }
            },
            "header": {
             "fill": {
              "color": "#C8D4E3"
             },
             "line": {
              "color": "white"
             }
            },
            "type": "table"
           }
          ]
         },
         "layout": {
          "annotationdefaults": {
           "arrowcolor": "#2a3f5f",
           "arrowhead": 0,
           "arrowwidth": 1
          },
          "autotypenumbers": "strict",
          "coloraxis": {
           "colorbar": {
            "outlinewidth": 0,
            "ticks": ""
           }
          },
          "colorscale": {
           "diverging": [
            [
             0,
             "#8e0152"
            ],
            [
             0.1,
             "#c51b7d"
            ],
            [
             0.2,
             "#de77ae"
            ],
            [
             0.3,
             "#f1b6da"
            ],
            [
             0.4,
             "#fde0ef"
            ],
            [
             0.5,
             "#f7f7f7"
            ],
            [
             0.6,
             "#e6f5d0"
            ],
            [
             0.7,
             "#b8e186"
            ],
            [
             0.8,
             "#7fbc41"
            ],
            [
             0.9,
             "#4d9221"
            ],
            [
             1,
             "#276419"
            ]
           ],
           "sequential": [
            [
             0,
             "#0d0887"
            ],
            [
             0.1111111111111111,
             "#46039f"
            ],
            [
             0.2222222222222222,
             "#7201a8"
            ],
            [
             0.3333333333333333,
             "#9c179e"
            ],
            [
             0.4444444444444444,
             "#bd3786"
            ],
            [
             0.5555555555555556,
             "#d8576b"
            ],
            [
             0.6666666666666666,
             "#ed7953"
            ],
            [
             0.7777777777777778,
             "#fb9f3a"
            ],
            [
             0.8888888888888888,
             "#fdca26"
            ],
            [
             1,
             "#f0f921"
            ]
           ],
           "sequentialminus": [
            [
             0,
             "#0d0887"
            ],
            [
             0.1111111111111111,
             "#46039f"
            ],
            [
             0.2222222222222222,
             "#7201a8"
            ],
            [
             0.3333333333333333,
             "#9c179e"
            ],
            [
             0.4444444444444444,
             "#bd3786"
            ],
            [
             0.5555555555555556,
             "#d8576b"
            ],
            [
             0.6666666666666666,
             "#ed7953"
            ],
            [
             0.7777777777777778,
             "#fb9f3a"
            ],
            [
             0.8888888888888888,
             "#fdca26"
            ],
            [
             1,
             "#f0f921"
            ]
           ]
          },
          "colorway": [
           "#636efa",
           "#EF553B",
           "#00cc96",
           "#ab63fa",
           "#FFA15A",
           "#19d3f3",
           "#FF6692",
           "#B6E880",
           "#FF97FF",
           "#FECB52"
          ],
          "font": {
           "color": "#2a3f5f"
          },
          "geo": {
           "bgcolor": "white",
           "lakecolor": "white",
           "landcolor": "#E5ECF6",
           "showlakes": true,
           "showland": true,
           "subunitcolor": "white"
          },
          "hoverlabel": {
           "align": "left"
          },
          "hovermode": "closest",
          "mapbox": {
           "style": "light"
          },
          "paper_bgcolor": "white",
          "plot_bgcolor": "#E5ECF6",
          "polar": {
           "angularaxis": {
            "gridcolor": "white",
            "linecolor": "white",
            "ticks": ""
           },
           "bgcolor": "#E5ECF6",
           "radialaxis": {
            "gridcolor": "white",
            "linecolor": "white",
            "ticks": ""
           }
          },
          "scene": {
           "xaxis": {
            "backgroundcolor": "#E5ECF6",
            "gridcolor": "white",
            "gridwidth": 2,
            "linecolor": "white",
            "showbackground": true,
            "ticks": "",
            "zerolinecolor": "white"
           },
           "yaxis": {
            "backgroundcolor": "#E5ECF6",
            "gridcolor": "white",
            "gridwidth": 2,
            "linecolor": "white",
            "showbackground": true,
            "ticks": "",
            "zerolinecolor": "white"
           },
           "zaxis": {
            "backgroundcolor": "#E5ECF6",
            "gridcolor": "white",
            "gridwidth": 2,
            "linecolor": "white",
            "showbackground": true,
            "ticks": "",
            "zerolinecolor": "white"
           }
          },
          "shapedefaults": {
           "line": {
            "color": "#2a3f5f"
           }
          },
          "ternary": {
           "aaxis": {
            "gridcolor": "white",
            "linecolor": "white",
            "ticks": ""
           },
           "baxis": {
            "gridcolor": "white",
            "linecolor": "white",
            "ticks": ""
           },
           "bgcolor": "#E5ECF6",
           "caxis": {
            "gridcolor": "white",
            "linecolor": "white",
            "ticks": ""
           }
          },
          "title": {
           "x": 0.05
          },
          "xaxis": {
           "automargin": true,
           "gridcolor": "white",
           "linecolor": "white",
           "ticks": "",
           "title": {
            "standoff": 15
           },
           "zerolinecolor": "white",
           "zerolinewidth": 2
          },
          "yaxis": {
           "automargin": true,
           "gridcolor": "white",
           "linecolor": "white",
           "ticks": "",
           "title": {
            "standoff": 15
           },
           "zerolinecolor": "white",
           "zerolinewidth": 2
          }
         }
        },
        "title": {
         "text": "Top 10 Tour Type based on Item Counts"
        },
        "xaxis": {
         "anchor": "y",
         "domain": [
          0,
          1
         ],
         "title": {
          "text": "Tour_Type"
         }
        },
        "yaxis": {
         "anchor": "x",
         "domain": [
          0,
          1
         ],
         "title": {
          "text": "Counts"
         }
        }
       }
      }
     },
     "metadata": {},
     "output_type": "display_data"
    }
   ],
   "source": [
    "column = 'Tour_Type'\n",
    "counts = df[column].value_counts()\n",
    "count_percentage = df[column].value_counts(1)*100\n",
    "counts_df = pd.DataFrame({column:counts.index,'Counts':counts.values,'Percent':np.round(count_percentage.values,2)})\n",
    "print('unique '+str(column))\n",
    "print('Top 10 '+str(column))\n",
    "display(counts_df.head(10))\n",
    "print('Bottom 10 '+str(column))\n",
    "display(counts_df.tail(10))\n",
    "px.bar(data_frame=counts_df.head(10),\n",
    " x=column,\n",
    " y='Counts',\n",
    " color='Counts',\n",
    " color_continuous_scale='blues',\n",
    " text_auto=True,\n",
    " title=f'Top 10 Tour Type based on Item Counts')"
   ]
  },
  {
   "attachments": {},
   "cell_type": "markdown",
   "id": "cfad5983",
   "metadata": {},
   "source": [
    "Rating Analysis"
   ]
  },
  {
   "cell_type": "code",
   "execution_count": 19,
   "id": "0fed17ae",
   "metadata": {},
   "outputs": [
    {
     "name": "stdout",
     "output_type": "stream",
     "text": [
      "count    2589.000000\n",
      "mean        4.402858\n",
      "std         0.741911\n",
      "min         1.000000\n",
      "25%         3.900000\n",
      "50%         4.700000\n",
      "75%         5.000000\n",
      "max         5.000000\n",
      "Name: Rating, dtype: float64\n"
     ]
    },
    {
     "data": {
      "text/plain": [
       "<AxesSubplot: >"
      ]
     },
     "execution_count": 19,
     "metadata": {},
     "output_type": "execute_result"
    },
    {
     "data": {
      "image/png": "[encoded data removed]",
      "text/plain": [
       "<Figure size 640x480 with 1 Axes>"
      ]
     },
     "metadata": {},
     "output_type": "display_data"
    }
   ],
   "source": [
    "print(df['Rating'].describe())\n",
    "df['Rating'].hist(bins=10)"
   ]
  },
  {
   "attachments": {},
   "cell_type": "markdown",
   "id": "db51ff78",
   "metadata": {},
   "source": [
    "We can see that histogram is skewed towards the right, which means that most of the Tours have a higher rating."
   ]
  },
  {
   "attachments": {},
   "cell_type": "markdown",
   "id": "09c52436",
   "metadata": {},
   "source": [
    "How many Ratings are between the interval of 0 to 1, 1 to 2, and so on?"
   ]
  },
  {
   "cell_type": "code",
   "execution_count": 20,
   "id": "d6336c3e",
   "metadata": {},
   "outputs": [
    {
     "data": {
      "text/plain": [
       "Rating\n",
       "(0, 1]       6\n",
       "(1, 2]      29\n",
       "(2, 3]      88\n",
       "(3, 4]     665\n",
       "(4, 5]    1801\n",
       "dtype: int64"
      ]
     },
     "execution_count": 20,
     "metadata": {},
     "output_type": "execute_result"
    }
   ],
   "source": [
    "pd.cut(df.Rating,bins = [0,1,2,3,4,5]).reset_index().groupby(['Rating']).size()"
   ]
  },
  {
   "cell_type": "code",
   "execution_count": 21,
   "id": "826ddd7e",
   "metadata": {},
   "outputs": [
    {
     "data": {
      "image/png": "[encoded data removed]",
      "text/plain": [
       "<Figure size 640x480 with 1 Axes>"
      ]
     },
     "metadata": {},
     "output_type": "display_data"
    }
   ],
   "source": [
    "# create a scatter plot of tour price vs duration\n",
    "plt.scatter(df['Duration'], df['Price'])\n",
    "plt.xlabel('Duration (hours)')\n",
    "plt.ylabel('Price ($)')\n",
    "plt.title('Tour Price vs Duration')\n",
    "plt.xlim([-50, 200]) # set x-axis range from 0 to 10\n",
    "plt.ylim([-50, 2500]) # set y-axis range from 0 to 500\n",
    "plt.show()"
   ]
  },
  {
   "attachments": {},
   "cell_type": "markdown",
   "id": "ad7b68c3",
   "metadata": {},
   "source": [
    "Base on this It show that there is some trend between duration and price, which mean that some of the tour price are low or high depend on the duration of the tour"
   ]
  },
  {
   "attachments": {},
   "cell_type": "markdown",
   "id": "603fe104",
   "metadata": {},
   "source": [
    "## 3.Build a simple logic for recommendations based on popularity"
   ]
  },
  {
   "cell_type": "code",
   "execution_count": 22,
   "id": "d210b145",
   "metadata": {},
   "outputs": [],
   "source": [
    "def recommend_most_popular(col,col_value,top_n=5):\n",
    "    return df[df[col]==col_value].sort_values(by='Rating',ascending = False).head(top_n)[['Tour_Name','Tour_Type','Rating', 'Number_of_Reviewer']]"
   ]
  },
  {
   "cell_type": "code",
   "execution_count": 23,
   "id": "430cb7f7",
   "metadata": {},
   "outputs": [
    {
     "data": {
      "text/html": [
       "<div>\n",
       "<style scoped>\n",
       "    .dataframe tbody tr th:only-of-type {\n",
       "        vertical-align: middle;\n",
       "    }\n",
       "\n",
       "    .dataframe tbody tr th {\n",
       "        vertical-align: top;\n",
       "    }\n",
       "\n",
       "    .dataframe thead th {\n",
       "        text-align: right;\n",
       "    }\n",
       "</style>\n",
       "<table border=\"1\" class=\"dataframe\">\n",
       "  <thead>\n",
       "    <tr style=\"text-align: right;\">\n",
       "      <th></th>\n",
       "      <th>Tour_Name</th>\n",
       "      <th>Tour_Type</th>\n",
       "      <th>Rating</th>\n",
       "      <th>Number_of_Reviewer</th>\n",
       "    </tr>\n",
       "  </thead>\n",
       "  <tbody>\n",
       "    <tr>\n",
       "      <th>2951</th>\n",
       "      <td>Body Scrubâ€“ Special Treatments</td>\n",
       "      <td>Health Tours</td>\n",
       "      <td>5.0</td>\n",
       "      <td>13.0</td>\n",
       "    </tr>\n",
       "    <tr>\n",
       "      <th>3612</th>\n",
       "      <td>Lomi-Lomi Massage – Body Massage</td>\n",
       "      <td>Health Tours</td>\n",
       "      <td>5.0</td>\n",
       "      <td>16.0</td>\n",
       "    </tr>\n",
       "    <tr>\n",
       "      <th>3014</th>\n",
       "      <td>Four Hand Bliss (65 Mins) + Free Pick up or Dr...</td>\n",
       "      <td>Health Tours</td>\n",
       "      <td>3.5</td>\n",
       "      <td>3.0</td>\n",
       "    </tr>\n",
       "  </tbody>\n",
       "</table>\n",
       "</div>"
      ],
      "text/plain": [
       "                                              Tour_Name     Tour_Type  Rating  \\\n",
       "2951                   Body Scrubâ€“ Special Treatments  Health Tours     5.0   \n",
       "3612                   Lomi-Lomi Massage – Body Massage  Health Tours     5.0   \n",
       "3014  Four Hand Bliss (65 Mins) + Free Pick up or Dr...  Health Tours     3.5   \n",
       "\n",
       "      Number_of_Reviewer  \n",
       "2951                13.0  \n",
       "3612                16.0  \n",
       "3014                 3.0  "
      ]
     },
     "execution_count": 23,
     "metadata": {},
     "output_type": "execute_result"
    }
   ],
   "source": [
    "recommend_most_popular(col='Tour_Type',col_value='Health Tours')"
   ]
  },
  {
   "cell_type": "code",
   "execution_count": 24,
   "id": "3646ba98",
   "metadata": {},
   "outputs": [
    {
     "data": {
      "text/html": [
       "<div>\n",
       "<style scoped>\n",
       "    .dataframe tbody tr th:only-of-type {\n",
       "        vertical-align: middle;\n",
       "    }\n",
       "\n",
       "    .dataframe tbody tr th {\n",
       "        vertical-align: top;\n",
       "    }\n",
       "\n",
       "    .dataframe thead th {\n",
       "        text-align: right;\n",
       "    }\n",
       "</style>\n",
       "<table border=\"1\" class=\"dataframe\">\n",
       "  <thead>\n",
       "    <tr style=\"text-align: right;\">\n",
       "      <th></th>\n",
       "      <th>Tour_Name</th>\n",
       "      <th>Tour_Type</th>\n",
       "      <th>Rating</th>\n",
       "      <th>Number_of_Reviewer</th>\n",
       "    </tr>\n",
       "  </thead>\n",
       "  <tbody>\n",
       "    <tr>\n",
       "      <th>18</th>\n",
       "      <td>Private half day tours in Kampot with local tu...</td>\n",
       "      <td>Half-day Tours</td>\n",
       "      <td>5.0</td>\n",
       "      <td>5.0</td>\n",
       "    </tr>\n",
       "    <tr>\n",
       "      <th>2990</th>\n",
       "      <td>Half Day Tour- Angkor Wat, Ta Promh, Bayon Temple</td>\n",
       "      <td>Half-day Tours</td>\n",
       "      <td>5.0</td>\n",
       "      <td>1.0</td>\n",
       "    </tr>\n",
       "    <tr>\n",
       "      <th>2471</th>\n",
       "      <td>The Killing Field and Toul Sleng Genocide Muse...</td>\n",
       "      <td>Half-day Tours</td>\n",
       "      <td>5.0</td>\n",
       "      <td>325.0</td>\n",
       "    </tr>\n",
       "    <tr>\n",
       "      <th>2617</th>\n",
       "      <td>Phnom Penh Nightâ€™s Life Walking and Foodie Tour</td>\n",
       "      <td>Half-day Tours</td>\n",
       "      <td>5.0</td>\n",
       "      <td>2.0</td>\n",
       "    </tr>\n",
       "    <tr>\n",
       "      <th>2630</th>\n",
       "      <td>Highlights &amp; Hidden Gems With Locals: Best of ...</td>\n",
       "      <td>Half-day Tours</td>\n",
       "      <td>5.0</td>\n",
       "      <td>22.0</td>\n",
       "    </tr>\n",
       "  </tbody>\n",
       "</table>\n",
       "</div>"
      ],
      "text/plain": [
       "                                              Tour_Name       Tour_Type  \\\n",
       "18    Private half day tours in Kampot with local tu...  Half-day Tours   \n",
       "2990  Half Day Tour- Angkor Wat, Ta Promh, Bayon Temple  Half-day Tours   \n",
       "2471  The Killing Field and Toul Sleng Genocide Muse...  Half-day Tours   \n",
       "2617  Phnom Penh Nightâ€™s Life Walking and Foodie Tour  Half-day Tours   \n",
       "2630  Highlights & Hidden Gems With Locals: Best of ...  Half-day Tours   \n",
       "\n",
       "      Rating  Number_of_Reviewer  \n",
       "18       5.0                 5.0  \n",
       "2990     5.0                 1.0  \n",
       "2471     5.0               325.0  \n",
       "2617     5.0                 2.0  \n",
       "2630     5.0                22.0  "
      ]
     },
     "execution_count": 24,
     "metadata": {},
     "output_type": "execute_result"
    }
   ],
   "source": [
    "recommend_most_popular(col='Tour_Type',col_value='Half-day Tours')"
   ]
  },
  {
   "cell_type": "code",
   "execution_count": 25,
   "id": "a13805d9",
   "metadata": {},
   "outputs": [
    {
     "data": {
      "text/html": [
       "<div>\n",
       "<style scoped>\n",
       "    .dataframe tbody tr th:only-of-type {\n",
       "        vertical-align: middle;\n",
       "    }\n",
       "\n",
       "    .dataframe tbody tr th {\n",
       "        vertical-align: top;\n",
       "    }\n",
       "\n",
       "    .dataframe thead th {\n",
       "        text-align: right;\n",
       "    }\n",
       "</style>\n",
       "<table border=\"1\" class=\"dataframe\">\n",
       "  <thead>\n",
       "    <tr style=\"text-align: right;\">\n",
       "      <th></th>\n",
       "      <th>Tour_Name</th>\n",
       "      <th>Tour_Type</th>\n",
       "      <th>Rating</th>\n",
       "      <th>Number_of_Reviewer</th>\n",
       "    </tr>\n",
       "  </thead>\n",
       "  <tbody>\n",
       "    <tr>\n",
       "      <th>4618</th>\n",
       "      <td>Quad Bike Ride Explore the Countryside</td>\n",
       "      <td>Adventure Tours</td>\n",
       "      <td>5.0</td>\n",
       "      <td>6.8</td>\n",
       "    </tr>\n",
       "    <tr>\n",
       "      <th>993</th>\n",
       "      <td>Angkor Wat Sunrise and Market Tour by Jeep</td>\n",
       "      <td>Adventure Tours</td>\n",
       "      <td>5.0</td>\n",
       "      <td>1.0</td>\n",
       "    </tr>\n",
       "    <tr>\n",
       "      <th>816</th>\n",
       "      <td>ATV Sunset and Cooking Class</td>\n",
       "      <td>Adventure Tours</td>\n",
       "      <td>5.0</td>\n",
       "      <td>2.0</td>\n",
       "    </tr>\n",
       "    <tr>\n",
       "      <th>821</th>\n",
       "      <td>Floating Village</td>\n",
       "      <td>Adventure Tours</td>\n",
       "      <td>5.0</td>\n",
       "      <td>2.0</td>\n",
       "    </tr>\n",
       "    <tr>\n",
       "      <th>825</th>\n",
       "      <td>Hike through the Jungles of Phnom Kulen Nation...</td>\n",
       "      <td>Adventure Tours</td>\n",
       "      <td>5.0</td>\n",
       "      <td>2.0</td>\n",
       "    </tr>\n",
       "  </tbody>\n",
       "</table>\n",
       "</div>"
      ],
      "text/plain": [
       "                                              Tour_Name        Tour_Type  \\\n",
       "4618             Quad Bike Ride Explore the Countryside  Adventure Tours   \n",
       "993          Angkor Wat Sunrise and Market Tour by Jeep  Adventure Tours   \n",
       "816                        ATV Sunset and Cooking Class  Adventure Tours   \n",
       "821                                    Floating Village  Adventure Tours   \n",
       "825   Hike through the Jungles of Phnom Kulen Nation...  Adventure Tours   \n",
       "\n",
       "      Rating  Number_of_Reviewer  \n",
       "4618     5.0                 6.8  \n",
       "993      5.0                 1.0  \n",
       "816      5.0                 2.0  \n",
       "821      5.0                 2.0  \n",
       "825      5.0                 2.0  "
      ]
     },
     "execution_count": 25,
     "metadata": {},
     "output_type": "execute_result"
    }
   ],
   "source": [
    "recommend_most_popular(col='Tour_Type',col_value='Adventure Tours')"
   ]
  },
  {
   "cell_type": "code",
   "execution_count": 26,
   "id": "5da36ee7",
   "metadata": {},
   "outputs": [
    {
     "data": {
      "text/html": [
       "<div>\n",
       "<style scoped>\n",
       "    .dataframe tbody tr th:only-of-type {\n",
       "        vertical-align: middle;\n",
       "    }\n",
       "\n",
       "    .dataframe tbody tr th {\n",
       "        vertical-align: top;\n",
       "    }\n",
       "\n",
       "    .dataframe thead th {\n",
       "        text-align: right;\n",
       "    }\n",
       "</style>\n",
       "<table border=\"1\" class=\"dataframe\">\n",
       "  <thead>\n",
       "    <tr style=\"text-align: right;\">\n",
       "      <th></th>\n",
       "      <th>Tour_Name</th>\n",
       "      <th>Tour_Type</th>\n",
       "      <th>Rating</th>\n",
       "      <th>Number_of_Reviewer</th>\n",
       "    </tr>\n",
       "  </thead>\n",
       "  <tbody>\n",
       "    <tr>\n",
       "      <th>9</th>\n",
       "      <td>Ultimate Siem Reap Food Tour (10 Locals Tastin...</td>\n",
       "      <td>Food Tours</td>\n",
       "      <td>5.0</td>\n",
       "      <td>31.0</td>\n",
       "    </tr>\n",
       "    <tr>\n",
       "      <th>294</th>\n",
       "      <td>Enjoy Authentic Khmer Dinner at Embassy Restau...</td>\n",
       "      <td>Food Tours</td>\n",
       "      <td>5.0</td>\n",
       "      <td>7.0</td>\n",
       "    </tr>\n",
       "    <tr>\n",
       "      <th>615</th>\n",
       "      <td>Lunch with an English-Speaking Local</td>\n",
       "      <td>Food Tours</td>\n",
       "      <td>5.0</td>\n",
       "      <td>6.0</td>\n",
       "    </tr>\n",
       "    <tr>\n",
       "      <th>820</th>\n",
       "      <td>Sunset Dinner at Rice Paddy Fields</td>\n",
       "      <td>Food Tours</td>\n",
       "      <td>5.0</td>\n",
       "      <td>2.0</td>\n",
       "    </tr>\n",
       "    <tr>\n",
       "      <th>1374</th>\n",
       "      <td>Luxury Camping</td>\n",
       "      <td>Food Tours</td>\n",
       "      <td>5.0</td>\n",
       "      <td>3.6</td>\n",
       "    </tr>\n",
       "  </tbody>\n",
       "</table>\n",
       "</div>"
      ],
      "text/plain": [
       "                                              Tour_Name   Tour_Type  Rating  \\\n",
       "9     Ultimate Siem Reap Food Tour (10 Locals Tastin...  Food Tours     5.0   \n",
       "294   Enjoy Authentic Khmer Dinner at Embassy Restau...  Food Tours     5.0   \n",
       "615                Lunch with an English-Speaking Local  Food Tours     5.0   \n",
       "820                  Sunset Dinner at Rice Paddy Fields  Food Tours     5.0   \n",
       "1374                                     Luxury Camping  Food Tours     5.0   \n",
       "\n",
       "      Number_of_Reviewer  \n",
       "9                   31.0  \n",
       "294                  7.0  \n",
       "615                  6.0  \n",
       "820                  2.0  \n",
       "1374                 3.6  "
      ]
     },
     "execution_count": 26,
     "metadata": {},
     "output_type": "execute_result"
    }
   ],
   "source": [
    "recommend_most_popular(col='Tour_Type',col_value='Food Tours')"
   ]
  },
  {
   "cell_type": "code",
   "execution_count": 27,
   "id": "57099ad6",
   "metadata": {},
   "outputs": [
    {
     "data": {
      "text/html": [
       "<div>\n",
       "<style scoped>\n",
       "    .dataframe tbody tr th:only-of-type {\n",
       "        vertical-align: middle;\n",
       "    }\n",
       "\n",
       "    .dataframe tbody tr th {\n",
       "        vertical-align: top;\n",
       "    }\n",
       "\n",
       "    .dataframe thead th {\n",
       "        text-align: right;\n",
       "    }\n",
       "</style>\n",
       "<table border=\"1\" class=\"dataframe\">\n",
       "  <thead>\n",
       "    <tr style=\"text-align: right;\">\n",
       "      <th></th>\n",
       "      <th>Tour_Name</th>\n",
       "      <th>Tour_Type</th>\n",
       "      <th>Rating</th>\n",
       "      <th>Number_of_Reviewer</th>\n",
       "    </tr>\n",
       "  </thead>\n",
       "  <tbody>\n",
       "    <tr>\n",
       "      <th>2</th>\n",
       "      <td>Koh Ker &amp; Beng Mealea Full-Day Join-in Tour</td>\n",
       "      <td>Full-day Tours</td>\n",
       "      <td>5.0</td>\n",
       "      <td>288.0</td>\n",
       "    </tr>\n",
       "    <tr>\n",
       "      <th>1065</th>\n",
       "      <td>Private Angkor Wat 1 Day Tour</td>\n",
       "      <td>Full-day Tours</td>\n",
       "      <td>5.0</td>\n",
       "      <td>1.0</td>\n",
       "    </tr>\n",
       "    <tr>\n",
       "      <th>1100</th>\n",
       "      <td>Private Battambang Off Beaten Track</td>\n",
       "      <td>Full-day Tours</td>\n",
       "      <td>5.0</td>\n",
       "      <td>1.0</td>\n",
       "    </tr>\n",
       "    <tr>\n",
       "      <th>1098</th>\n",
       "      <td>Private Battambang Full-Day Guided Tour</td>\n",
       "      <td>Full-day Tours</td>\n",
       "      <td>5.0</td>\n",
       "      <td>1.0</td>\n",
       "    </tr>\n",
       "    <tr>\n",
       "      <th>1094</th>\n",
       "      <td>Ancient Hindu Temples Of Preah Vihear</td>\n",
       "      <td>Full-day Tours</td>\n",
       "      <td>5.0</td>\n",
       "      <td>1.0</td>\n",
       "    </tr>\n",
       "  </tbody>\n",
       "</table>\n",
       "</div>"
      ],
      "text/plain": [
       "                                        Tour_Name       Tour_Type  Rating  \\\n",
       "2     Koh Ker & Beng Mealea Full-Day Join-in Tour  Full-day Tours     5.0   \n",
       "1065                Private Angkor Wat 1 Day Tour  Full-day Tours     5.0   \n",
       "1100          Private Battambang Off Beaten Track  Full-day Tours     5.0   \n",
       "1098      Private Battambang Full-Day Guided Tour  Full-day Tours     5.0   \n",
       "1094        Ancient Hindu Temples Of Preah Vihear  Full-day Tours     5.0   \n",
       "\n",
       "      Number_of_Reviewer  \n",
       "2                  288.0  \n",
       "1065                 1.0  \n",
       "1100                 1.0  \n",
       "1098                 1.0  \n",
       "1094                 1.0  "
      ]
     },
     "execution_count": 27,
     "metadata": {},
     "output_type": "execute_result"
    }
   ],
   "source": [
    "recommend_most_popular(col='Tour_Type',col_value='Full-day Tours')"
   ]
  },
  {
   "cell_type": "code",
   "execution_count": 28,
   "id": "43bc2bc5",
   "metadata": {},
   "outputs": [
    {
     "data": {
      "text/html": [
       "<div>\n",
       "<style scoped>\n",
       "    .dataframe tbody tr th:only-of-type {\n",
       "        vertical-align: middle;\n",
       "    }\n",
       "\n",
       "    .dataframe tbody tr th {\n",
       "        vertical-align: top;\n",
       "    }\n",
       "\n",
       "    .dataframe thead th {\n",
       "        text-align: right;\n",
       "    }\n",
       "</style>\n",
       "<table border=\"1\" class=\"dataframe\">\n",
       "  <thead>\n",
       "    <tr style=\"text-align: right;\">\n",
       "      <th></th>\n",
       "      <th>Tour_Name</th>\n",
       "      <th>Tour_Type</th>\n",
       "      <th>Rating</th>\n",
       "      <th>Number_of_Reviewer</th>\n",
       "    </tr>\n",
       "  </thead>\n",
       "  <tbody>\n",
       "    <tr>\n",
       "      <th>0</th>\n",
       "      <td>Phare: The Cambodian Circus Show in Siem Reap</td>\n",
       "      <td>Comedy Shows</td>\n",
       "      <td>5.0</td>\n",
       "      <td>992.0</td>\n",
       "    </tr>\n",
       "    <tr>\n",
       "      <th>724</th>\n",
       "      <td>The Cambodia Circus, Phare At 19:00 PM</td>\n",
       "      <td>Comedy Shows</td>\n",
       "      <td>5.0</td>\n",
       "      <td>3.0</td>\n",
       "    </tr>\n",
       "  </tbody>\n",
       "</table>\n",
       "</div>"
      ],
      "text/plain": [
       "                                         Tour_Name     Tour_Type  Rating  \\\n",
       "0    Phare: The Cambodian Circus Show in Siem Reap  Comedy Shows     5.0   \n",
       "724         The Cambodia Circus, Phare At 19:00 PM  Comedy Shows     5.0   \n",
       "\n",
       "     Number_of_Reviewer  \n",
       "0                 992.0  \n",
       "724                 3.0  "
      ]
     },
     "execution_count": 28,
     "metadata": {},
     "output_type": "execute_result"
    }
   ],
   "source": [
    "recommend_most_popular(col='Tour_Type',col_value='Comedy Shows')"
   ]
  },
  {
   "attachments": {},
   "cell_type": "markdown",
   "id": "72928056",
   "metadata": {},
   "source": [
    "## 3.Build a Content-based Recommendation System"
   ]
  },
  {
   "cell_type": "code",
   "execution_count": 29,
   "id": "8439847f",
   "metadata": {},
   "outputs": [],
   "source": [
    "import re\n",
    "from sklearn.feature_extraction.text import CountVectorizer\n",
    "from sklearn.metrics.pairwise import cosine_similarity\n",
    "\n",
    "df2 = df.copy()\n",
    "rmv_spc = lambda a: a.strip()\n",
    "get_list = lambda a: list(map(rmv_spc, re.split('&|,|\\*|n', a)))\n",
    "for col in ['Tour_Name', 'Tour_Type', 'Highlight']:\n",
    "    df2[col] = df2[col].apply(get_list)\n",
    "\n",
    "def cleaner(x):\n",
    "    if isinstance(x, list):\n",
    "        return [str.lower(i.replace(\" \", \"\")) for i in x]\n",
    "    else:\n",
    "        if isinstance(x, str):\n",
    "            return str.lower(x.replace(\" \", \"\"))\n",
    "        else:\n",
    "            return ''\n",
    "\n",
    "for col in ['Tour_Name', 'Tour_Type', 'Highlight']:\n",
    "    df2[col] = df2[col].apply(cleaner)\n",
    "\n",
    "def couple(x):\n",
    "    return ' '.join(x['Tour_Name']) + ' ' + ' '.join(x['Tour_Type']) + ' ' + ' '.join(x['Highlight'])\n",
    "\n",
    "df2['product_classification_features'] = df2.apply(couple, axis=1)\n"
   ]
  },
  {
   "cell_type": "code",
   "execution_count": 30,
   "id": "4387ca56",
   "metadata": {},
   "outputs": [],
   "source": [
    "count = CountVectorizer(stop_words='english')\n",
    "count_matrix = count.fit_transform(df2['product_classification_features'])\n",
    "cosine_sim = cosine_similarity(count_matrix, count_matrix)\n",
    "cosine_sim_df = pd.DataFrame(cosine_sim)"
   ]
  },
  {
   "cell_type": "code",
   "execution_count": 31,
   "id": "46f18fb5",
   "metadata": {},
   "outputs": [],
   "source": [
    "def content_recommendation_v1(title):\n",
    "    a = df.copy().reset_index().drop('Index',axis=1)\n",
    "    if a.empty:\n",
    "        print(\"Error: The dataframe is empty!\")\n",
    "        return None\n",
    "    index = a[a['Tour_Name']==title].index\n",
    "    if len(index) == 0:\n",
    "        print(\"Error: The title '{}' does not exist in the dataframe.\".format(title))\n",
    "        return None\n",
    "    index = index[0]\n",
    "    top_n_index = list(cosine_sim_df[index].nlargest(10).index)\n",
    "    try:\n",
    "        top_n_index.remove(index)\n",
    "    except:\n",
    "        pass\n",
    "    similar_df = a.iloc[top_n_index][['Tour_Name']]\n",
    "    similar_df['cosine_similarity'] = cosine_sim_df[index].iloc[top_n_index]\n",
    "    return similar_df"
   ]
  },
  {
   "cell_type": "code",
   "execution_count": 32,
   "id": "80f2ebd2",
   "metadata": {
    "scrolled": true
   },
   "outputs": [
    {
     "data": {
      "text/html": [
       "<div>\n",
       "<style scoped>\n",
       "    .dataframe tbody tr th:only-of-type {\n",
       "        vertical-align: middle;\n",
       "    }\n",
       "\n",
       "    .dataframe tbody tr th {\n",
       "        vertical-align: top;\n",
       "    }\n",
       "\n",
       "    .dataframe thead th {\n",
       "        text-align: right;\n",
       "    }\n",
       "</style>\n",
       "<table border=\"1\" class=\"dataframe\">\n",
       "  <thead>\n",
       "    <tr style=\"text-align: right;\">\n",
       "      <th></th>\n",
       "      <th>Tour_Name</th>\n",
       "      <th>cosine_similarity</th>\n",
       "    </tr>\n",
       "  </thead>\n",
       "  <tbody>\n",
       "    <tr>\n",
       "      <th>1134</th>\n",
       "      <td>Cooking Class and Local Market Tour</td>\n",
       "      <td>0.589256</td>\n",
       "    </tr>\n",
       "    <tr>\n",
       "      <th>115</th>\n",
       "      <td>Cooking Class at La Plantation</td>\n",
       "      <td>0.555556</td>\n",
       "    </tr>\n",
       "    <tr>\n",
       "      <th>1568</th>\n",
       "      <td>Cooking Class Menu A</td>\n",
       "      <td>0.555556</td>\n",
       "    </tr>\n",
       "    <tr>\n",
       "      <th>1831</th>\n",
       "      <td>Cooking Class + Visit Local Market</td>\n",
       "      <td>0.555556</td>\n",
       "    </tr>\n",
       "    <tr>\n",
       "      <th>2147</th>\n",
       "      <td>Cooking Class Menu C</td>\n",
       "      <td>0.555556</td>\n",
       "    </tr>\n",
       "    <tr>\n",
       "      <th>1029</th>\n",
       "      <td>Cooking Class By Borei Angkor</td>\n",
       "      <td>0.549972</td>\n",
       "    </tr>\n",
       "    <tr>\n",
       "      <th>2170</th>\n",
       "      <td>Cook &amp; Dine, enjoy the most unique experience</td>\n",
       "      <td>0.481457</td>\n",
       "    </tr>\n",
       "    <tr>\n",
       "      <th>1026</th>\n",
       "      <td>Market Tour and Cambodian Cooking Class in Sie...</td>\n",
       "      <td>0.464207</td>\n",
       "    </tr>\n",
       "    <tr>\n",
       "      <th>517</th>\n",
       "      <td>Cooking Class By Reveal Angkor Hotel Siem Reap</td>\n",
       "      <td>0.449050</td>\n",
       "    </tr>\n",
       "  </tbody>\n",
       "</table>\n",
       "</div>"
      ],
      "text/plain": [
       "                                              Tour_Name  cosine_similarity\n",
       "1134                Cooking Class and Local Market Tour           0.589256\n",
       "115                      Cooking Class at La Plantation           0.555556\n",
       "1568                               Cooking Class Menu A           0.555556\n",
       "1831                 Cooking Class + Visit Local Market           0.555556\n",
       "2147                               Cooking Class Menu C           0.555556\n",
       "1029                      Cooking Class By Borei Angkor           0.549972\n",
       "2170      Cook & Dine, enjoy the most unique experience           0.481457\n",
       "1026  Market Tour and Cambodian Cooking Class in Sie...           0.464207\n",
       "517      Cooking Class By Reveal Angkor Hotel Siem Reap           0.449050"
      ]
     },
     "execution_count": 32,
     "metadata": {},
     "output_type": "execute_result"
    }
   ],
   "source": [
    "title = 'Cooking class in Kampot'\n",
    "content_recommendation_v1(title)"
   ]
  },
  {
   "cell_type": "code",
   "execution_count": 33,
   "id": "1e3096c3",
   "metadata": {},
   "outputs": [
    {
     "data": {
      "text/html": [
       "<div>\n",
       "<style scoped>\n",
       "    .dataframe tbody tr th:only-of-type {\n",
       "        vertical-align: middle;\n",
       "    }\n",
       "\n",
       "    .dataframe tbody tr th {\n",
       "        vertical-align: top;\n",
       "    }\n",
       "\n",
       "    .dataframe thead th {\n",
       "        text-align: right;\n",
       "    }\n",
       "</style>\n",
       "<table border=\"1\" class=\"dataframe\">\n",
       "  <thead>\n",
       "    <tr style=\"text-align: right;\">\n",
       "      <th></th>\n",
       "      <th>Tour_Name</th>\n",
       "      <th>cosine_similarity</th>\n",
       "    </tr>\n",
       "  </thead>\n",
       "  <tbody>\n",
       "    <tr>\n",
       "      <th>1511</th>\n",
       "      <td>Angkor Wat Sunrise Private Tour</td>\n",
       "      <td>0.839146</td>\n",
       "    </tr>\n",
       "    <tr>\n",
       "      <th>1779</th>\n",
       "      <td>Full-Day Angkor Wat Sunrise Private Tour</td>\n",
       "      <td>0.812500</td>\n",
       "    </tr>\n",
       "    <tr>\n",
       "      <th>1495</th>\n",
       "      <td>Angkor Park Sunrise Private Tour</td>\n",
       "      <td>0.774597</td>\n",
       "    </tr>\n",
       "    <tr>\n",
       "      <th>683</th>\n",
       "      <td>Angkor Wat Sunrise Private Tour - Free Hotel P...</td>\n",
       "      <td>0.766032</td>\n",
       "    </tr>\n",
       "    <tr>\n",
       "      <th>247</th>\n",
       "      <td>Sun Rise Angkor Small Group Day Tour from Siem...</td>\n",
       "      <td>0.649519</td>\n",
       "    </tr>\n",
       "    <tr>\n",
       "      <th>1087</th>\n",
       "      <td>1-Day Angkor Temple Small Group Day Tour</td>\n",
       "      <td>0.603023</td>\n",
       "    </tr>\n",
       "    <tr>\n",
       "      <th>1079</th>\n",
       "      <td>Phnom Penh Full day private Tour</td>\n",
       "      <td>0.577350</td>\n",
       "    </tr>\n",
       "    <tr>\n",
       "      <th>2492</th>\n",
       "      <td>Angkor Wat Tour from Siem Reap Private</td>\n",
       "      <td>0.577350</td>\n",
       "    </tr>\n",
       "    <tr>\n",
       "      <th>908</th>\n",
       "      <td>Temples with Sunrise Adventure- Private Tour</td>\n",
       "      <td>0.573539</td>\n",
       "    </tr>\n",
       "  </tbody>\n",
       "</table>\n",
       "</div>"
      ],
      "text/plain": [
       "                                              Tour_Name  cosine_similarity\n",
       "1511                    Angkor Wat Sunrise Private Tour           0.839146\n",
       "1779           Full-Day Angkor Wat Sunrise Private Tour           0.812500\n",
       "1495                   Angkor Park Sunrise Private Tour           0.774597\n",
       "683   Angkor Wat Sunrise Private Tour - Free Hotel P...           0.766032\n",
       "247   Sun Rise Angkor Small Group Day Tour from Siem...           0.649519\n",
       "1087           1-Day Angkor Temple Small Group Day Tour           0.603023\n",
       "1079                   Phnom Penh Full day private Tour           0.577350\n",
       "2492             Angkor Wat Tour from Siem Reap Private           0.577350\n",
       "908        Temples with Sunrise Adventure- Private Tour           0.573539"
      ]
     },
     "execution_count": 33,
     "metadata": {},
     "output_type": "execute_result"
    }
   ],
   "source": [
    "title = 'Private Angkor Wat Sunrise Tour'\n",
    "content_recommendation_v1(title)"
   ]
  },
  {
   "cell_type": "code",
   "execution_count": 34,
   "id": "d6ddba64",
   "metadata": {},
   "outputs": [
    {
     "data": {
      "text/html": [
       "<div>\n",
       "<style scoped>\n",
       "    .dataframe tbody tr th:only-of-type {\n",
       "        vertical-align: middle;\n",
       "    }\n",
       "\n",
       "    .dataframe tbody tr th {\n",
       "        vertical-align: top;\n",
       "    }\n",
       "\n",
       "    .dataframe thead th {\n",
       "        text-align: right;\n",
       "    }\n",
       "</style>\n",
       "<table border=\"1\" class=\"dataframe\">\n",
       "  <thead>\n",
       "    <tr style=\"text-align: right;\">\n",
       "      <th></th>\n",
       "      <th>Tour_Name</th>\n",
       "      <th>cosine_similarity</th>\n",
       "    </tr>\n",
       "  </thead>\n",
       "  <tbody>\n",
       "    <tr>\n",
       "      <th>288</th>\n",
       "      <td>Guided Floating Village Boat Tour in Siem Reap</td>\n",
       "      <td>0.450000</td>\n",
       "    </tr>\n",
       "    <tr>\n",
       "      <th>802</th>\n",
       "      <td>Day Trip to Beng Mealea Temple and Kampong Khl...</td>\n",
       "      <td>0.429669</td>\n",
       "    </tr>\n",
       "    <tr>\n",
       "      <th>2287</th>\n",
       "      <td>Phnom Penh Sunset Cruise Including BBQ and Drinks</td>\n",
       "      <td>0.409197</td>\n",
       "    </tr>\n",
       "    <tr>\n",
       "      <th>2106</th>\n",
       "      <td>Private Two Day Tour to Temples &amp; Tonle Sap</td>\n",
       "      <td>0.356915</td>\n",
       "    </tr>\n",
       "    <tr>\n",
       "      <th>245</th>\n",
       "      <td>Private City Tour in Siem Reap</td>\n",
       "      <td>0.350000</td>\n",
       "    </tr>\n",
       "    <tr>\n",
       "      <th>863</th>\n",
       "      <td>Private 3 Day Adventure To Ancient Temples</td>\n",
       "      <td>0.346410</td>\n",
       "    </tr>\n",
       "    <tr>\n",
       "      <th>1282</th>\n",
       "      <td>4-day Phnom Penh Siem Reap Angkor temples Floa...</td>\n",
       "      <td>0.344652</td>\n",
       "    </tr>\n",
       "    <tr>\n",
       "      <th>1989</th>\n",
       "      <td>2-Day Siem Reap Angkor Complex and Floating vi...</td>\n",
       "      <td>0.344010</td>\n",
       "    </tr>\n",
       "    <tr>\n",
       "      <th>344</th>\n",
       "      <td>Private Tour: Siem Reap City Tour Full Day</td>\n",
       "      <td>0.342356</td>\n",
       "    </tr>\n",
       "  </tbody>\n",
       "</table>\n",
       "</div>"
      ],
      "text/plain": [
       "                                              Tour_Name  cosine_similarity\n",
       "288      Guided Floating Village Boat Tour in Siem Reap           0.450000\n",
       "802   Day Trip to Beng Mealea Temple and Kampong Khl...           0.429669\n",
       "2287  Phnom Penh Sunset Cruise Including BBQ and Drinks           0.409197\n",
       "2106        Private Two Day Tour to Temples & Tonle Sap           0.356915\n",
       "245                      Private City Tour in Siem Reap           0.350000\n",
       "863          Private 3 Day Adventure To Ancient Temples           0.346410\n",
       "1282  4-day Phnom Penh Siem Reap Angkor temples Floa...           0.344652\n",
       "1989  2-Day Siem Reap Angkor Complex and Floating vi...           0.344010\n",
       "344          Private Tour: Siem Reap City Tour Full Day           0.342356"
      ]
     },
     "execution_count": 34,
     "metadata": {},
     "output_type": "execute_result"
    }
   ],
   "source": [
    "title = 'Sunset Cruise on Tonle Sap'\n",
    "content_recommendation_v1(title)"
   ]
  },
  {
   "cell_type": "code",
   "execution_count": 35,
   "id": "0aaff579",
   "metadata": {},
   "outputs": [
    {
     "data": {
      "text/html": [
       "<div>\n",
       "<style scoped>\n",
       "    .dataframe tbody tr th:only-of-type {\n",
       "        vertical-align: middle;\n",
       "    }\n",
       "\n",
       "    .dataframe tbody tr th {\n",
       "        vertical-align: top;\n",
       "    }\n",
       "\n",
       "    .dataframe thead th {\n",
       "        text-align: right;\n",
       "    }\n",
       "</style>\n",
       "<table border=\"1\" class=\"dataframe\">\n",
       "  <thead>\n",
       "    <tr style=\"text-align: right;\">\n",
       "      <th></th>\n",
       "      <th>Tour_Name</th>\n",
       "      <th>cosine_similarity</th>\n",
       "    </tr>\n",
       "  </thead>\n",
       "  <tbody>\n",
       "    <tr>\n",
       "      <th>1831</th>\n",
       "      <td>Cooking Class + Visit Local Market</td>\n",
       "      <td>0.544331</td>\n",
       "    </tr>\n",
       "    <tr>\n",
       "      <th>2092</th>\n",
       "      <td>Khmer Culinary Cooking Class</td>\n",
       "      <td>0.462910</td>\n",
       "    </tr>\n",
       "    <tr>\n",
       "      <th>1134</th>\n",
       "      <td>Cooking Class and Local Market Tour</td>\n",
       "      <td>0.433013</td>\n",
       "    </tr>\n",
       "    <tr>\n",
       "      <th>2374</th>\n",
       "      <td>Evening Cooking Class</td>\n",
       "      <td>0.433013</td>\n",
       "    </tr>\n",
       "    <tr>\n",
       "      <th>1882</th>\n",
       "      <td>Khmer Gourmet Degustation</td>\n",
       "      <td>0.408248</td>\n",
       "    </tr>\n",
       "    <tr>\n",
       "      <th>74</th>\n",
       "      <td>Cooking class in Kampot</td>\n",
       "      <td>0.408248</td>\n",
       "    </tr>\n",
       "    <tr>\n",
       "      <th>115</th>\n",
       "      <td>Cooking Class at La Plantation</td>\n",
       "      <td>0.408248</td>\n",
       "    </tr>\n",
       "    <tr>\n",
       "      <th>1568</th>\n",
       "      <td>Cooking Class Menu A</td>\n",
       "      <td>0.408248</td>\n",
       "    </tr>\n",
       "    <tr>\n",
       "      <th>2147</th>\n",
       "      <td>Cooking Class Menu C</td>\n",
       "      <td>0.408248</td>\n",
       "    </tr>\n",
       "  </tbody>\n",
       "</table>\n",
       "</div>"
      ],
      "text/plain": [
       "                                Tour_Name  cosine_similarity\n",
       "1831   Cooking Class + Visit Local Market           0.544331\n",
       "2092         Khmer Culinary Cooking Class           0.462910\n",
       "1134  Cooking Class and Local Market Tour           0.433013\n",
       "2374                Evening Cooking Class           0.433013\n",
       "1882            Khmer Gourmet Degustation           0.408248\n",
       "74                Cooking class in Kampot           0.408248\n",
       "115        Cooking Class at La Plantation           0.408248\n",
       "1568                 Cooking Class Menu A           0.408248\n",
       "2147                 Cooking Class Menu C           0.408248"
      ]
     },
     "execution_count": 35,
     "metadata": {},
     "output_type": "execute_result"
    }
   ],
   "source": [
    "title = 'Khmer Gourmet Cooking Class'\n",
    "content_recommendation_v1(title)"
   ]
  },
  {
   "cell_type": "code",
   "execution_count": 36,
   "id": "0c91d211",
   "metadata": {},
   "outputs": [
    {
     "data": {
      "text/html": [
       "<div>\n",
       "<style scoped>\n",
       "    .dataframe tbody tr th:only-of-type {\n",
       "        vertical-align: middle;\n",
       "    }\n",
       "\n",
       "    .dataframe tbody tr th {\n",
       "        vertical-align: top;\n",
       "    }\n",
       "\n",
       "    .dataframe thead th {\n",
       "        text-align: right;\n",
       "    }\n",
       "</style>\n",
       "<table border=\"1\" class=\"dataframe\">\n",
       "  <thead>\n",
       "    <tr style=\"text-align: right;\">\n",
       "      <th></th>\n",
       "      <th>Tour_Name</th>\n",
       "      <th>cosine_similarity</th>\n",
       "    </tr>\n",
       "  </thead>\n",
       "  <tbody>\n",
       "    <tr>\n",
       "      <th>2313</th>\n",
       "      <td>Angkor Sunrise Bike Tour with Breakfast and Lu...</td>\n",
       "      <td>0.621874</td>\n",
       "    </tr>\n",
       "    <tr>\n",
       "      <th>144</th>\n",
       "      <td>Siem Reap Countryside Sunset Ride</td>\n",
       "      <td>0.550689</td>\n",
       "    </tr>\n",
       "    <tr>\n",
       "      <th>1550</th>\n",
       "      <td>Angkor Sunrise Bike Tour with Breakfast &amp; Lunch</td>\n",
       "      <td>0.515122</td>\n",
       "    </tr>\n",
       "    <tr>\n",
       "      <th>1288</th>\n",
       "      <td>Angkor Sunrise Bike Tour - Included Breakfast ...</td>\n",
       "      <td>0.504715</td>\n",
       "    </tr>\n",
       "    <tr>\n",
       "      <th>2382</th>\n",
       "      <td>Morning Countryside Jeep Tour</td>\n",
       "      <td>0.440204</td>\n",
       "    </tr>\n",
       "    <tr>\n",
       "      <th>110</th>\n",
       "      <td>Siem Reap Countryside Half-Day Shared Tour</td>\n",
       "      <td>0.414644</td>\n",
       "    </tr>\n",
       "    <tr>\n",
       "      <th>361</th>\n",
       "      <td>Half-Day Siem Reap Countryside Bike Tour</td>\n",
       "      <td>0.414644</td>\n",
       "    </tr>\n",
       "    <tr>\n",
       "      <th>2552</th>\n",
       "      <td>Killing Field &amp; Paddy Rice Fields Bike Ride</td>\n",
       "      <td>0.391293</td>\n",
       "    </tr>\n",
       "    <tr>\n",
       "      <th>1241</th>\n",
       "      <td>Siem Reap Countryside Bicycle Tour 4 hours</td>\n",
       "      <td>0.389490</td>\n",
       "    </tr>\n",
       "  </tbody>\n",
       "</table>\n",
       "</div>"
      ],
      "text/plain": [
       "                                              Tour_Name  cosine_similarity\n",
       "2313  Angkor Sunrise Bike Tour with Breakfast and Lu...           0.621874\n",
       "144                   Siem Reap Countryside Sunset Ride           0.550689\n",
       "1550    Angkor Sunrise Bike Tour with Breakfast & Lunch           0.515122\n",
       "1288  Angkor Sunrise Bike Tour - Included Breakfast ...           0.504715\n",
       "2382                      Morning Countryside Jeep Tour           0.440204\n",
       "110          Siem Reap Countryside Half-Day Shared Tour           0.414644\n",
       "361            Half-Day Siem Reap Countryside Bike Tour           0.414644\n",
       "2552        Killing Field & Paddy Rice Fields Bike Ride           0.391293\n",
       "1241         Siem Reap Countryside Bicycle Tour 4 hours           0.389490"
      ]
     },
     "execution_count": 36,
     "metadata": {},
     "output_type": "execute_result"
    }
   ],
   "source": [
    "title = 'Bike the Siem Reap Countryside with Local Expert'\n",
    "content_recommendation_v1(title)"
   ]
  },
  {
   "cell_type": "code",
   "execution_count": 38,
   "id": "9c0db1ca",
   "metadata": {},
   "outputs": [
    {
     "name": "stderr",
     "output_type": "stream",
     "text": [
      "c:\\Users\\LH\\AppData\\Local\\Programs\\Python\\Python39\\lib\\site-packages\\fuzzywuzzy\\fuzz.py:11: UserWarning:\n",
      "\n",
      "Using slow pure-python SequenceMatcher. Install python-Levenshtein to remove this warning\n",
      "\n"
     ]
    }
   ],
   "source": [
    "from fuzzywuzzy import fuzz, process\n",
    "\n",
    "def content_recommendation_v2(partial_title):\n",
    "    a = df.copy().reset_index().drop('Index', axis=1)\n",
    "    if a.empty:\n",
    "        print(\"Error: The dataframe is empty!\")\n",
    "        return None\n",
    "    # Find the closest match to the partial title using fuzzy string matching\n",
    "    titles = a['Tour_Name'].unique()\n",
    "    match = process.extractOne(partial_title, titles, scorer=fuzz.token_sort_ratio)\n",
    "    if match is None or match[1] < 50:\n",
    "        print(\"Error: No match found for the title '{}'\".format(partial_title))\n",
    "        return None\n",
    "    title = match[0]\n",
    "    index = a[a['Tour_Name']==title].index[0]\n",
    "    top_n_index = list(cosine_sim_df[index].nlargest(10).index)\n",
    "    try:\n",
    "        top_n_index.remove(index)\n",
    "    except:\n",
    "        pass\n",
    "    similar_df = a.iloc[top_n_index][['Tour_Name']]\n",
    "    similar_df['cosine_similarity'] = cosine_sim_df[index].iloc[top_n_index]\n",
    "    return similar_df"
   ]
  },
  {
   "cell_type": "code",
   "execution_count": 39,
   "id": "053f3865",
   "metadata": {},
   "outputs": [
    {
     "data": {
      "text/html": [
       "<div>\n",
       "<style scoped>\n",
       "    .dataframe tbody tr th:only-of-type {\n",
       "        vertical-align: middle;\n",
       "    }\n",
       "\n",
       "    .dataframe tbody tr th {\n",
       "        vertical-align: top;\n",
       "    }\n",
       "\n",
       "    .dataframe thead th {\n",
       "        text-align: right;\n",
       "    }\n",
       "</style>\n",
       "<table border=\"1\" class=\"dataframe\">\n",
       "  <thead>\n",
       "    <tr style=\"text-align: right;\">\n",
       "      <th></th>\n",
       "      <th>Tour_Name</th>\n",
       "      <th>cosine_similarity</th>\n",
       "    </tr>\n",
       "  </thead>\n",
       "  <tbody>\n",
       "    <tr>\n",
       "      <th>1060</th>\n",
       "      <td>Full-Day Kampot &amp; Kep with a local Tuk Tuk Tours</td>\n",
       "      <td>0.519656</td>\n",
       "    </tr>\n",
       "    <tr>\n",
       "      <th>597</th>\n",
       "      <td>MotoGirl - Day Tour</td>\n",
       "      <td>0.495074</td>\n",
       "    </tr>\n",
       "    <tr>\n",
       "      <th>286</th>\n",
       "      <td>Tuk-Tuk full day tour BambooTrain , bat cave,l...</td>\n",
       "      <td>0.471405</td>\n",
       "    </tr>\n",
       "    <tr>\n",
       "      <th>2542</th>\n",
       "      <td>Private Full Day Tuk Tuk Tour in Battambang</td>\n",
       "      <td>0.471405</td>\n",
       "    </tr>\n",
       "    <tr>\n",
       "      <th>1083</th>\n",
       "      <td>Sightseeing and History Tour in Phnom Penh</td>\n",
       "      <td>0.461880</td>\n",
       "    </tr>\n",
       "    <tr>\n",
       "      <th>519</th>\n",
       "      <td>Small Group Phnom Penh Full Day City Tour with...</td>\n",
       "      <td>0.456435</td>\n",
       "    </tr>\n",
       "    <tr>\n",
       "      <th>30</th>\n",
       "      <td>Battambang Full Day Tour from Siem Reap - Bamb...</td>\n",
       "      <td>0.439941</td>\n",
       "    </tr>\n",
       "    <tr>\n",
       "      <th>1183</th>\n",
       "      <td>Angkor Full Day Private Tour with 2 Extra</td>\n",
       "      <td>0.436436</td>\n",
       "    </tr>\n",
       "    <tr>\n",
       "      <th>125</th>\n",
       "      <td>Phnom Penh Nightlife Street Food Tours</td>\n",
       "      <td>0.435194</td>\n",
       "    </tr>\n",
       "  </tbody>\n",
       "</table>\n",
       "</div>"
      ],
      "text/plain": [
       "                                              Tour_Name  cosine_similarity\n",
       "1060   Full-Day Kampot & Kep with a local Tuk Tuk Tours           0.519656\n",
       "597                                 MotoGirl - Day Tour           0.495074\n",
       "286   Tuk-Tuk full day tour BambooTrain , bat cave,l...           0.471405\n",
       "2542        Private Full Day Tuk Tuk Tour in Battambang           0.471405\n",
       "1083         Sightseeing and History Tour in Phnom Penh           0.461880\n",
       "519   Small Group Phnom Penh Full Day City Tour with...           0.456435\n",
       "30    Battambang Full Day Tour from Siem Reap - Bamb...           0.439941\n",
       "1183          Angkor Full Day Private Tour with 2 Extra           0.436436\n",
       "125              Phnom Penh Nightlife Street Food Tours           0.435194"
      ]
     },
     "execution_count": 39,
     "metadata": {},
     "output_type": "execute_result"
    }
   ],
   "source": [
    "title = 'Tuk Tuk Tour'\n",
    "content_recommendation_v2(title)"
   ]
  },
  {
   "cell_type": "code",
   "execution_count": 40,
   "id": "9834f1fa",
   "metadata": {},
   "outputs": [],
   "source": [
    "from fuzzywuzzy import fuzz, process\n",
    "\n",
    "def content_recommendation_v3(partial_title):\n",
    "    a = df.copy().reset_index().drop('Index', axis=1)\n",
    "    if a.empty:\n",
    "        print(\"Error: The dataframe is empty!\")\n",
    "        return None\n",
    "    # Find the closest match to the partial title using fuzzy string matching\n",
    "    titles = a['Highlight'].unique()\n",
    "    match = process.extractOne(partial_title, titles, scorer=fuzz.token_sort_ratio)\n",
    "    if match is None or match[1] < 50:\n",
    "        print(\"Error: No match found for the title '{}'\".format(partial_title))\n",
    "        return None\n",
    "    title = match[0]\n",
    "    index = a[a['Highlight']==title].index[0]\n",
    "    top_n_index = list(cosine_sim_df[index].nlargest(10).index)\n",
    "    try:\n",
    "        top_n_index.remove(index)\n",
    "    except:\n",
    "        pass\n",
    "    similar_df = a.iloc[top_n_index][['Highlight']]\n",
    "    similar_df['cosine_similarity'] = cosine_sim_df[index].iloc[top_n_index]\n",
    "    return similar_df"
   ]
  },
  {
   "cell_type": "code",
   "execution_count": 41,
   "id": "f40ba9ef",
   "metadata": {},
   "outputs": [
    {
     "data": {
      "text/html": [
       "<div>\n",
       "<style scoped>\n",
       "    .dataframe tbody tr th:only-of-type {\n",
       "        vertical-align: middle;\n",
       "    }\n",
       "\n",
       "    .dataframe tbody tr th {\n",
       "        vertical-align: top;\n",
       "    }\n",
       "\n",
       "    .dataframe thead th {\n",
       "        text-align: right;\n",
       "    }\n",
       "</style>\n",
       "<table border=\"1\" class=\"dataframe\">\n",
       "  <thead>\n",
       "    <tr style=\"text-align: right;\">\n",
       "      <th></th>\n",
       "      <th>Tour_Name</th>\n",
       "      <th>cosine_similarity</th>\n",
       "    </tr>\n",
       "  </thead>\n",
       "  <tbody>\n",
       "    <tr>\n",
       "      <th>1859</th>\n",
       "      <td>2-day explore mystery Angkor temples - Private...</td>\n",
       "      <td>0.418121</td>\n",
       "    </tr>\n",
       "    <tr>\n",
       "      <th>1606</th>\n",
       "      <td>Private Discovery of Banteay Srei, Beng Mealea...</td>\n",
       "      <td>0.400320</td>\n",
       "    </tr>\n",
       "    <tr>\n",
       "      <th>289</th>\n",
       "      <td>Half-Day Ta Prohm and Banteay Kdei Tour</td>\n",
       "      <td>0.384615</td>\n",
       "    </tr>\n",
       "    <tr>\n",
       "      <th>1653</th>\n",
       "      <td>Private One Day Trip-Pyramid Temple Koh Ker an...</td>\n",
       "      <td>0.384615</td>\n",
       "    </tr>\n",
       "    <tr>\n",
       "      <th>2158</th>\n",
       "      <td>Private One Day to Kulen Mountain and Kompong ...</td>\n",
       "      <td>0.384615</td>\n",
       "    </tr>\n",
       "    <tr>\n",
       "      <th>2533</th>\n",
       "      <td>Phnom Kulen mountain Waterfall &amp; 1000 lingas f...</td>\n",
       "      <td>0.381771</td>\n",
       "    </tr>\n",
       "    <tr>\n",
       "      <th>459</th>\n",
       "      <td>The Magnificent Angkor Wat</td>\n",
       "      <td>0.370625</td>\n",
       "    </tr>\n",
       "    <tr>\n",
       "      <th>2166</th>\n",
       "      <td>Private One Day Exploration at Thousands of Li...</td>\n",
       "      <td>0.370625</td>\n",
       "    </tr>\n",
       "    <tr>\n",
       "      <th>1463</th>\n",
       "      <td>Private Bicycle journey in the Temples</td>\n",
       "      <td>0.350823</td>\n",
       "    </tr>\n",
       "  </tbody>\n",
       "</table>\n",
       "</div>"
      ],
      "text/plain": [
       "                                              Tour_Name  cosine_similarity\n",
       "1859  2-day explore mystery Angkor temples - Private...           0.418121\n",
       "1606  Private Discovery of Banteay Srei, Beng Mealea...           0.400320\n",
       "289             Half-Day Ta Prohm and Banteay Kdei Tour           0.384615\n",
       "1653  Private One Day Trip-Pyramid Temple Koh Ker an...           0.384615\n",
       "2158  Private One Day to Kulen Mountain and Kompong ...           0.384615\n",
       "2533  Phnom Kulen mountain Waterfall & 1000 lingas f...           0.381771\n",
       "459                          The Magnificent Angkor Wat           0.370625\n",
       "2166  Private One Day Exploration at Thousands of Li...           0.370625\n",
       "1463             Private Bicycle journey in the Temples           0.350823"
      ]
     },
     "execution_count": 41,
     "metadata": {},
     "output_type": "execute_result"
    }
   ],
   "source": [
    "title = 'Private tour, Transport by air-conditioned private vehicle, Lunch, Professional guide,'\n",
    "content_recommendation_v2(title)"
   ]
  },
  {
   "cell_type": "code",
   "execution_count": 42,
   "id": "775d04c7",
   "metadata": {},
   "outputs": [],
   "source": [
    "from fuzzywuzzy import fuzz, process\n",
    "\n",
    "def content_recommendation_v4(partial_title):\n",
    "    a = df.copy().reset_index().drop('Index', axis=1)\n",
    "    if a.empty:\n",
    "        print(\"Error: The dataframe is empty!\")\n",
    "        return None\n",
    "    # Find the closest match to the partial title using fuzzy string matching\n",
    "    titles = a['Tour_Name'].unique()\n",
    "    match = process.extractOne(partial_title, titles, scorer=fuzz.token_sort_ratio)\n",
    "    if match is None or match[1] < 50:\n",
    "        print(\"Error: No match found for the title '{}'\".format(partial_title))\n",
    "        return None\n",
    "    title = match[0]\n",
    "    index = a[a['Tour_Name']==title].index[0]\n",
    "    top_n_index = list(cosine_sim_df[index].nlargest(10).index)\n",
    "    try:\n",
    "        top_n_index.remove(index)\n",
    "    except:\n",
    "        pass\n",
    "    similar_df = a.iloc[top_n_index][['Tour_Name', 'Rating', 'Number_of_Reviewer']]\n",
    "    similar_df['cosine_similarity'] = cosine_sim_df[index].iloc[top_n_index]\n",
    "    similar_df = similar_df.sort_values(['Rating', 'Number_of_Reviewer'], ascending=[False, False])\n",
    "    return similar_df\n"
   ]
  },
  {
   "cell_type": "code",
   "execution_count": 43,
   "id": "fed4b155",
   "metadata": {},
   "outputs": [
    {
     "data": {
      "text/html": [
       "<div>\n",
       "<style scoped>\n",
       "    .dataframe tbody tr th:only-of-type {\n",
       "        vertical-align: middle;\n",
       "    }\n",
       "\n",
       "    .dataframe tbody tr th {\n",
       "        vertical-align: top;\n",
       "    }\n",
       "\n",
       "    .dataframe thead th {\n",
       "        text-align: right;\n",
       "    }\n",
       "</style>\n",
       "<table border=\"1\" class=\"dataframe\">\n",
       "  <thead>\n",
       "    <tr style=\"text-align: right;\">\n",
       "      <th></th>\n",
       "      <th>Tour_Name</th>\n",
       "      <th>Rating</th>\n",
       "      <th>Number_of_Reviewer</th>\n",
       "      <th>cosine_similarity</th>\n",
       "    </tr>\n",
       "  </thead>\n",
       "  <tbody>\n",
       "    <tr>\n",
       "      <th>519</th>\n",
       "      <td>Small Group Phnom Penh Full Day City Tour with...</td>\n",
       "      <td>5.0</td>\n",
       "      <td>8.0</td>\n",
       "      <td>0.456435</td>\n",
       "    </tr>\n",
       "    <tr>\n",
       "      <th>597</th>\n",
       "      <td>MotoGirl - Day Tour</td>\n",
       "      <td>5.0</td>\n",
       "      <td>4.0</td>\n",
       "      <td>0.495074</td>\n",
       "    </tr>\n",
       "    <tr>\n",
       "      <th>2542</th>\n",
       "      <td>Private Full Day Tuk Tuk Tour in Battambang</td>\n",
       "      <td>4.7</td>\n",
       "      <td>5.8</td>\n",
       "      <td>0.471405</td>\n",
       "    </tr>\n",
       "    <tr>\n",
       "      <th>30</th>\n",
       "      <td>Battambang Full Day Tour from Siem Reap - Bamb...</td>\n",
       "      <td>4.5</td>\n",
       "      <td>21.0</td>\n",
       "      <td>0.439941</td>\n",
       "    </tr>\n",
       "    <tr>\n",
       "      <th>1183</th>\n",
       "      <td>Angkor Full Day Private Tour with 2 Extra</td>\n",
       "      <td>4.1</td>\n",
       "      <td>1.2</td>\n",
       "      <td>0.436436</td>\n",
       "    </tr>\n",
       "    <tr>\n",
       "      <th>125</th>\n",
       "      <td>Phnom Penh Nightlife Street Food Tours</td>\n",
       "      <td>4.0</td>\n",
       "      <td>4.0</td>\n",
       "      <td>0.435194</td>\n",
       "    </tr>\n",
       "    <tr>\n",
       "      <th>1083</th>\n",
       "      <td>Sightseeing and History Tour in Phnom Penh</td>\n",
       "      <td>3.6</td>\n",
       "      <td>1.8</td>\n",
       "      <td>0.461880</td>\n",
       "    </tr>\n",
       "    <tr>\n",
       "      <th>1060</th>\n",
       "      <td>Full-Day Kampot &amp; Kep with a local Tuk Tuk Tours</td>\n",
       "      <td>3.5</td>\n",
       "      <td>2.0</td>\n",
       "      <td>0.519656</td>\n",
       "    </tr>\n",
       "    <tr>\n",
       "      <th>286</th>\n",
       "      <td>Tuk-Tuk full day tour BambooTrain , bat cave,l...</td>\n",
       "      <td>3.5</td>\n",
       "      <td>1.8</td>\n",
       "      <td>0.471405</td>\n",
       "    </tr>\n",
       "  </tbody>\n",
       "</table>\n",
       "</div>"
      ],
      "text/plain": [
       "                                              Tour_Name  Rating  \\\n",
       "519   Small Group Phnom Penh Full Day City Tour with...     5.0   \n",
       "597                                 MotoGirl - Day Tour     5.0   \n",
       "2542        Private Full Day Tuk Tuk Tour in Battambang     4.7   \n",
       "30    Battambang Full Day Tour from Siem Reap - Bamb...     4.5   \n",
       "1183          Angkor Full Day Private Tour with 2 Extra     4.1   \n",
       "125              Phnom Penh Nightlife Street Food Tours     4.0   \n",
       "1083         Sightseeing and History Tour in Phnom Penh     3.6   \n",
       "1060   Full-Day Kampot & Kep with a local Tuk Tuk Tours     3.5   \n",
       "286   Tuk-Tuk full day tour BambooTrain , bat cave,l...     3.5   \n",
       "\n",
       "      Number_of_Reviewer  cosine_similarity  \n",
       "519                  8.0           0.456435  \n",
       "597                  4.0           0.495074  \n",
       "2542                 5.8           0.471405  \n",
       "30                  21.0           0.439941  \n",
       "1183                 1.2           0.436436  \n",
       "125                  4.0           0.435194  \n",
       "1083                 1.8           0.461880  \n",
       "1060                 2.0           0.519656  \n",
       "286                  1.8           0.471405  "
      ]
     },
     "execution_count": 43,
     "metadata": {},
     "output_type": "execute_result"
    }
   ],
   "source": [
    "title = 'Tuk Tuk Tour'\n",
    "content_recommendation_v4(title)"
   ]
  },
  {
   "attachments": {},
   "cell_type": "markdown",
   "id": "f0f8c619",
   "metadata": {},
   "source": [
    "## <font color = yellow>Feature Engineering"
   ]
  },
  {
   "cell_type": "code",
   "execution_count": null,
   "id": "5899b69a",
   "metadata": {},
   "outputs": [],
   "source": []
  },
  {
   "cell_type": "code",
   "execution_count": null,
   "id": "71aca7a0",
   "metadata": {},
   "outputs": [],
   "source": []
  },
  {
   "cell_type": "code",
   "execution_count": null,
   "id": "5c245506",
   "metadata": {},
   "outputs": [],
   "source": []
  },
  {
   "cell_type": "code",
   "execution_count": null,
   "id": "f8fef38a",
   "metadata": {},
   "outputs": [],
   "source": []
  }
 ],
 "metadata": {
  "kernelspec": {
   "display_name": "Python 3 (ipykernel)",
   "language": "python",
   "name": "python3"
  },
  "language_info": {
   "codemirror_mode": {
    "name": "ipython",
    "version": 3
   },
   "file_extension": ".py",
   "mimetype": "text/x-python",
   "name": "python",
   "nbconvert_exporter": "python",
   "pygments_lexer": "ipython3",
   "version": "3.9.7"
  }
 },
 "nbformat": 4,
 "nbformat_minor": 5
}
